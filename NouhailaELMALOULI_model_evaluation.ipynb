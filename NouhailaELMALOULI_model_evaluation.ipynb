{
  "cells": [
    {
      "cell_type": "markdown",
      "metadata": {
        "id": "view-in-github",
        "colab_type": "text"
      },
      "source": [
        "<a href=\"https://colab.research.google.com/github/NouhailaElmalouli/Scikit-Learn_House_Prices_Prediction/blob/main/NouhailaELMALOULI_model_evaluation.ipynb\" target=\"_parent\"><img src=\"https://colab.research.google.com/assets/colab-badge.svg\" alt=\"Open In Colab\"/></a>"
      ]
    },
    {
      "cell_type": "markdown",
      "id": "8b9564bd",
      "metadata": {
        "_cell_guid": "49f4a580-d04e-4036-8c5b-f84908255d8c",
        "_uuid": "48a0cda2-16b1-47bf-b0cd-e44314d956de",
        "collapsed": false,
        "jupyter": {
          "outputs_hidden": false
        },
        "papermill": {
          "duration": 0.005035,
          "end_time": "2025-04-12T12:50:08.942321",
          "exception": false,
          "start_time": "2025-04-12T12:50:08.937286",
          "status": "completed"
        },
        "tags": [],
        "id": "8b9564bd"
      },
      "source": [
        "# 🏘 House Price Prediction (Ames Housing Dataset)\n",
        "\n",
        "**Goal:** The goal is simple: build a predictive model that accurately estimates home sale prices in Ames, Iowa by uncovering hidden patterns in the dataset. You'll need to analyze all 79 features—from obvious factors like square footage to subtle influences like neighborhood zoning—and engineer the best approach to beat the competition. The most accurate predictions win.\n",
        "\n",
        "**Dataset:** Ames Housing dataset (`train.csv`). Contains 79 explanatory features describing residential homes and the target variable `Sale Price`.\n"
      ]
    },
    {
      "cell_type": "markdown",
      "id": "2dd7b72d",
      "metadata": {
        "id": "2dd7b72d"
      },
      "source": [
        "We will be working with [kaggle](https://kaggle.com) platform during our [competition](https://www.kaggle.com/competitions/house-prices-iaac/overview). Go through these tabs to read more about the data, the rules and the other teams."
      ]
    },
    {
      "cell_type": "markdown",
      "id": "11ab71d9",
      "metadata": {
        "id": "11ab71d9"
      },
      "source": [
        "<img src=\"../.assets/kaggle/hello_kaggle.jpg\" width=50%>"
      ]
    },
    {
      "cell_type": "markdown",
      "id": "9b616ef9",
      "metadata": {
        "id": "9b616ef9"
      },
      "source": [
        "### ⚙️ Setup"
      ]
    },
    {
      "cell_type": "code",
      "execution_count": 1,
      "id": "ca2d3d5c",
      "metadata": {
        "_cell_guid": "d6644673-9b79-4bc2-bf02-d7cc1531f2a9",
        "_uuid": "0239bcae-6c67-40e7-9b43-50fe53546d54",
        "execution": {
          "iopub.execute_input": "2025-04-12T12:50:08.952243Z",
          "iopub.status.busy": "2025-04-12T12:50:08.951874Z",
          "iopub.status.idle": "2025-04-12T12:50:13.128051Z",
          "shell.execute_reply": "2025-04-12T12:50:13.127224Z"
        },
        "jupyter": {
          "outputs_hidden": false
        },
        "papermill": {
          "duration": 4.183063,
          "end_time": "2025-04-12T12:50:13.129711",
          "exception": false,
          "start_time": "2025-04-12T12:50:08.946648",
          "status": "completed"
        },
        "tags": [],
        "id": "ca2d3d5c"
      },
      "outputs": [],
      "source": [
        "# Import necessary libraries\n",
        "import pandas as pd\n",
        "import numpy as np\n",
        "import matplotlib.pyplot as plt\n",
        "import seaborn as sns\n",
        "from scipy.stats import skew\n",
        "from sklearn.model_selection import train_test_split, KFold, cross_val_score\n",
        "from sklearn.preprocessing import StandardScaler, OneHotEncoder, OrdinalEncoder\n",
        "from sklearn.compose import ColumnTransformer\n",
        "from sklearn.pipeline import Pipeline\n",
        "from sklearn.impute import SimpleImputer\n",
        "from sklearn.linear_model import Ridge\n",
        "from sklearn.ensemble import RandomForestRegressor, GradientBoostingRegressor\n",
        "from sklearn.metrics import mean_squared_error, r2_score, mean_absolute_error\n",
        "import warnings\n",
        "\n",
        "# Suppress warnings for cleaner output\n",
        "warnings.filterwarnings('ignore')\n",
        "\n",
        "# Set plotting style\n",
        "sns.set(style='whitegrid')\n",
        "plt.rcParams['figure.figsize'] = (12, 7)\n",
        "\n",
        "# Function for Root Mean Squared Log Error (RMSLE)\n",
        "def rmsle(y_true, y_pred):\n",
        "    return np.sqrt(mean_squared_error(np.log1p(y_true), np.log1p(y_pred)))\n",
        "\n",
        "# Function for Cross-Validation scoring (using RMSLE)\n",
        "def cv_rmsle(model, X, y):\n",
        "    kf = KFold(n_splits=5, shuffle=True, random_state=42)\n",
        "    # Note: We use log1p transform on y for scoring, as models predict log(price)\n",
        "    # Need to inverse transform y_pred if model predicts log price\n",
        "    # Simpler approach: predict original scale and calc RMSLE, or predict log scale and calc RMSE on log scale\n",
        "    # We'll train models to predict log(price) and calculate RMSE on that log scale.\n",
        "    rmse_scores = np.sqrt(-cross_val_score(model, X, np.log1p(y),\n",
        "                                            scoring=\"neg_mean_squared_error\",\n",
        "                                            cv=kf))\n",
        "    return rmse_scores"
      ]
    },
    {
      "cell_type": "markdown",
      "id": "5d38cf59",
      "metadata": {
        "_cell_guid": "5aa88cf5-820a-41fa-93f4-f0c8a8212e38",
        "_uuid": "824bd29f-78b6-433b-9db8-b0e6f172d4af",
        "collapsed": false,
        "jupyter": {
          "outputs_hidden": false
        },
        "papermill": {
          "duration": 0.00388,
          "end_time": "2025-04-12T12:50:13.138103",
          "exception": false,
          "start_time": "2025-04-12T12:50:13.134223",
          "status": "completed"
        },
        "tags": [],
        "id": "5d38cf59"
      },
      "source": [
        "## 🔎 Load and Explore Data (EDA)"
      ]
    },
    {
      "cell_type": "markdown",
      "id": "fd8fb47d",
      "metadata": {
        "id": "fd8fb47d"
      },
      "source": [
        "<img src=\"../.assets/kaggle/get_data.jpg\" width=50%>"
      ]
    },
    {
      "cell_type": "code",
      "execution_count": 2,
      "id": "bfed469b",
      "metadata": {
        "_cell_guid": "3ffc63d4-98ab-4339-a129-d37593eb235d",
        "_uuid": "c6beb375-34de-45e7-9326-65e251d0df09",
        "execution": {
          "iopub.execute_input": "2025-04-12T12:50:13.147784Z",
          "iopub.status.busy": "2025-04-12T12:50:13.147314Z",
          "iopub.status.idle": "2025-04-12T12:50:13.278821Z",
          "shell.execute_reply": "2025-04-12T12:50:13.277774Z"
        },
        "jupyter": {
          "outputs_hidden": false
        },
        "papermill": {
          "duration": 0.13828,
          "end_time": "2025-04-12T12:50:13.280483",
          "exception": false,
          "start_time": "2025-04-12T12:50:13.142203",
          "status": "completed"
        },
        "tags": [],
        "colab": {
          "base_uri": "https://localhost:8080/"
        },
        "id": "bfed469b",
        "outputId": "0850dcee-27c5-4316-b938-83557ba12925"
      },
      "outputs": [
        {
          "output_type": "stream",
          "name": "stdout",
          "text": [
            "\n",
            "Training data shape: (1758, 82)\n",
            "\n",
            "--- Dataset Info ---\n",
            "\n",
            "--- First 5 Rows ---\n",
            "   Order        PID  MS SubClass MS Zoning  Lot Frontage  Lot Area Street  \\\n",
            "0   1323  902405070           70        RM          60.0     10800   Pave   \n",
            "1   2476  531376030           60        RL          65.0      7800   Pave   \n",
            "2   2091  906201022           20        RL         114.0     10357   Pave   \n",
            "3   2734  905403050           50        RL          62.0      6488   Pave   \n",
            "4   2882  911175440          190   C (all)          50.0      9000   Pave   \n",
            "\n",
            "  Alley Lot Shape Land Contour  ... Pool Area Pool QC Fence Misc Feature  \\\n",
            "0   NaN       Reg          Lvl  ...         0     NaN   NaN          NaN   \n",
            "1   NaN       Reg          Lvl  ...         0     NaN   NaN          NaN   \n",
            "2   NaN       IR1          Lvl  ...         0     NaN   NaN          NaN   \n",
            "3   NaN       Reg          Lvl  ...         0     NaN   NaN          NaN   \n",
            "4   NaN       Reg          Lvl  ...         0     NaN   NaN          NaN   \n",
            "\n",
            "  Misc Val Mo Sold Yr Sold Sale Type  Sale Condition  SalePrice  \n",
            "0        0      12    2008       WD           Normal     184000  \n",
            "1        0       4    2006       WD           Normal     184000  \n",
            "2        0       5    2007       WD           Normal     179900  \n",
            "3        0       3    2006       WD           Family     128000  \n",
            "4        0      10    2006       WD          Abnorml     115000  \n",
            "\n",
            "[5 rows x 82 columns]\n",
            "\n",
            "--- Descriptive Statistics (Numerical Features) ---\n",
            "             Order           PID  MS SubClass  Lot Frontage       Lot Area  \\\n",
            "count  1758.000000  1.758000e+03  1758.000000   1450.000000    1758.000000   \n",
            "mean   1485.290102  7.119455e+08    57.992036     68.958621   10213.825939   \n",
            "std     844.469755  1.885920e+08    43.582211     22.986261    8833.745146   \n",
            "min       2.000000  5.263020e+08    20.000000     21.000000    1300.000000   \n",
            "25%     758.250000  5.284807e+08    20.000000     58.000000    7424.250000   \n",
            "50%    1500.500000  5.354512e+08    50.000000     67.000000    9350.000000   \n",
            "75%    2211.500000  9.071352e+08    70.000000     80.000000   11518.750000   \n",
            "max    2928.000000  9.241510e+08   190.000000    313.000000  215245.000000   \n",
            "\n",
            "       Overall Qual  Overall Cond   Year Built  Year Remod/Add  Mas Vnr Area  \\\n",
            "count   1758.000000   1758.000000  1758.000000     1758.000000   1746.000000   \n",
            "mean       6.065984      5.592719  1970.430603     1984.176337    101.821306   \n",
            "std        1.385827      1.117560    30.360395       20.612855    178.978807   \n",
            "min        1.000000      1.000000  1872.000000     1950.000000      0.000000   \n",
            "25%        5.000000      5.000000  1953.000000     1966.000000      0.000000   \n",
            "50%        6.000000      5.000000  1972.000000     1992.000000      0.000000   \n",
            "75%        7.000000      6.000000  2000.000000     2003.000000    160.000000   \n",
            "max       10.000000      9.000000  2010.000000     2010.000000   1290.000000   \n",
            "\n",
            "       ...  Wood Deck SF  Open Porch SF  Enclosed Porch   3Ssn Porch  \\\n",
            "count  ...   1758.000000    1758.000000     1758.000000  1758.000000   \n",
            "mean   ...     96.597270      47.736633       25.288965     2.626280   \n",
            "std    ...    126.291103      69.087083       64.930413    25.513279   \n",
            "min    ...      0.000000       0.000000        0.000000     0.000000   \n",
            "25%    ...      0.000000       0.000000        0.000000     0.000000   \n",
            "50%    ...      0.000000      26.000000        0.000000     0.000000   \n",
            "75%    ...    169.000000      70.000000        0.000000     0.000000   \n",
            "max    ...    870.000000     742.000000      552.000000   508.000000   \n",
            "\n",
            "       Screen Porch    Pool Area      Misc Val      Mo Sold      Yr Sold  \\\n",
            "count   1758.000000  1758.000000   1758.000000  1758.000000  1758.000000   \n",
            "mean      15.887372     1.776451     61.818544     6.194539  2007.758817   \n",
            "std       54.185928    32.989203    683.309106     2.695880     1.310554   \n",
            "min        0.000000     0.000000      0.000000     1.000000  2006.000000   \n",
            "25%        0.000000     0.000000      0.000000     4.000000  2007.000000   \n",
            "50%        0.000000     0.000000      0.000000     6.000000  2008.000000   \n",
            "75%        0.000000     0.000000      0.000000     8.000000  2009.000000   \n",
            "max      396.000000   800.000000  17000.000000    12.000000  2010.000000   \n",
            "\n",
            "           SalePrice  \n",
            "count    1758.000000  \n",
            "mean   179194.476109  \n",
            "std     77798.273043  \n",
            "min     12789.000000  \n",
            "25%    129425.000000  \n",
            "50%    160100.000000  \n",
            "75%    210000.000000  \n",
            "max    755000.000000  \n",
            "\n",
            "[8 rows x 39 columns]\n"
          ]
        }
      ],
      "source": [
        "df_train = pd.read_csv('/content/train.csv')\n",
        "\n",
        "# Keep the Id column for potential future reference but drop for modeling\n",
        "train_ids = df_train['Id']\n",
        "df_train.drop('Id', axis=1, inplace=True)\n",
        "\n",
        "print(f\"\\nTraining data shape: {df_train.shape}\")\n",
        "\n",
        "# Display basic information\n",
        "print(\"\\n--- Dataset Info ---\")\n",
        "# df_train.info() # Can be very long, maybe just show head and describe\n",
        "\n",
        "print(\"\\n--- First 5 Rows ---\")\n",
        "print(df_train.head())\n",
        "\n",
        "print(\"\\n--- Descriptive Statistics (Numerical Features) ---\")\n",
        "print(df_train.describe())"
      ]
    },
    {
      "cell_type": "markdown",
      "id": "3672193a",
      "metadata": {
        "id": "3672193a"
      },
      "source": [
        "## EDA"
      ]
    },
    {
      "cell_type": "markdown",
      "id": "fca496ce",
      "metadata": {
        "id": "fca496ce"
      },
      "source": [
        "Explore the data and work with missing variables."
      ]
    },
    {
      "cell_type": "markdown",
      "id": "caedfdd5",
      "metadata": {
        "_cell_guid": "e855805c-107e-486b-9c9c-8235e16e4753",
        "_uuid": "4b515b8a-6ae0-4be6-902d-bc81ec7abee6",
        "collapsed": false,
        "jupyter": {
          "outputs_hidden": false
        },
        "papermill": {
          "duration": 0.005989,
          "end_time": "2025-04-12T12:50:14.126429",
          "exception": false,
          "start_time": "2025-04-12T12:50:14.120440",
          "status": "completed"
        },
        "tags": [],
        "id": "caedfdd5"
      },
      "source": [
        "### Missing Value Analysis"
      ]
    },
    {
      "cell_type": "markdown",
      "id": "e682fc0c",
      "metadata": {
        "id": "e682fc0c"
      },
      "source": [
        "The amount of missing values and the semantics of the features are an indicator of which _strategy_ we want to use when working with the missing values.\n",
        "\n",
        "* remove the feature?\n",
        "* remove certain rows? (probably not here, as the dataset is rather small)\n",
        "* replace them with\n",
        "    * 0 (or any other numerical placeholder)\n",
        "    * average value\n",
        "* interpolate or deduce?\n",
        "* fill in manually?"
      ]
    },
    {
      "cell_type": "code",
      "execution_count": 3,
      "id": "4854d6bd",
      "metadata": {
        "_cell_guid": "f997df3e-c7ca-4b5d-b2f9-088664586084",
        "_uuid": "be09b9ea-5b9f-4c59-be7a-50e553ea99d2",
        "execution": {
          "iopub.execute_input": "2025-04-12T12:50:14.140091Z",
          "iopub.status.busy": "2025-04-12T12:50:14.139276Z",
          "iopub.status.idle": "2025-04-12T12:50:14.534632Z",
          "shell.execute_reply": "2025-04-12T12:50:14.533665Z"
        },
        "jupyter": {
          "outputs_hidden": false
        },
        "papermill": {
          "duration": 0.403918,
          "end_time": "2025-04-12T12:50:14.536251",
          "exception": false,
          "start_time": "2025-04-12T12:50:14.132333",
          "status": "completed"
        },
        "tags": [],
        "colab": {
          "base_uri": "https://localhost:8080/",
          "height": 1000
        },
        "id": "4854d6bd",
        "outputId": "bb370a05-c32f-4ded-ef21-b8a1bacac408"
      },
      "outputs": [
        {
          "output_type": "stream",
          "name": "stdout",
          "text": [
            "\n",
            "--- Features with Missing Values ---\n",
            "                Missing Count  Percentage (%)\n",
            "Pool QC                  1752       99.658703\n",
            "Misc Feature             1692       96.245734\n",
            "Alley                    1636       93.060296\n",
            "Fence                    1411       80.261661\n",
            "Mas Vnr Type             1055       60.011377\n",
            "Fireplace Qu              877       49.886234\n",
            "Lot Frontage              308       17.519909\n",
            "Garage Qual                99        5.631399\n",
            "Garage Yr Blt              99        5.631399\n",
            "Garage Cond                99        5.631399\n",
            "Garage Finish              99        5.631399\n",
            "Garage Type                98        5.574516\n",
            "Bsmt Exposure              44        2.502844\n",
            "Bsmt Cond                  42        2.389078\n",
            "BsmtFin Type 1             42        2.389078\n",
            "Bsmt Qual                  42        2.389078\n",
            "BsmtFin Type 2             42        2.389078\n",
            "Mas Vnr Area               12        0.682594\n",
            "Bsmt Full Bath              1        0.056883\n",
            "Bsmt Half Bath              1        0.056883\n"
          ]
        },
        {
          "output_type": "display_data",
          "data": {
            "text/plain": [
              "<Figure size 1500x800 with 1 Axes>"
            ],
            "image/png": "[encoded data removed]"
          },
          "metadata": {}
        }
      ],
      "source": [
        "# Check for missing values\n",
        "missing = df_train.isnull().sum().sort_values(ascending=False)\n",
        "missing = missing[missing > 0] # Filter only columns with missing values\n",
        "missing_perc = (missing / len(df_train)) * 100\n",
        "\n",
        "missing_data = pd.DataFrame({'Missing Count': missing, 'Percentage (%)': missing_perc})\n",
        "print(\"\\n--- Features with Missing Values ---\")\n",
        "print(missing_data.head(20)) # Show top 20 features with missing values\n",
        "\n",
        "plt.figure(figsize=(15, 8))\n",
        "sns.barplot(x=missing_data.index[:20], y=missing_data['Percentage (%)'][:20])\n",
        "plt.title('Top 20 Features with Missing Data (%)')\n",
        "plt.xticks(rotation=90)\n",
        "plt.ylabel('Percentage (%)')\n",
        "plt.show()\n"
      ]
    },
    {
      "cell_type": "markdown",
      "id": "d9882083",
      "metadata": {
        "_cell_guid": "8957fe01-8eef-450e-a3bd-f1bdcce2157f",
        "_uuid": "ebbccfed-483d-4b89-9bde-b8f3ff172db2",
        "collapsed": false,
        "jupyter": {
          "outputs_hidden": false
        },
        "papermill": {
          "duration": 0.006797,
          "end_time": "2025-04-12T12:50:14.551038",
          "exception": false,
          "start_time": "2025-04-12T12:50:14.544241",
          "status": "completed"
        },
        "tags": [],
        "id": "d9882083"
      },
      "source": [
        "### Feature Correlations"
      ]
    },
    {
      "cell_type": "code",
      "source": [
        "df_train['SalePrice_Log'] = np.log1p(df_train['SalePrice'])\n"
      ],
      "metadata": {
        "id": "xiLf372K4WvT"
      },
      "id": "xiLf372K4WvT",
      "execution_count": 4,
      "outputs": []
    },
    {
      "cell_type": "code",
      "source": [
        "print(df_train.columns.tolist())\n"
      ],
      "metadata": {
        "colab": {
          "base_uri": "https://localhost:8080/"
        },
        "id": "Gdz3xpkJ4Pmb",
        "outputId": "20634fd9-df68-4256-a9b8-1dbfdceb40ca"
      },
      "id": "Gdz3xpkJ4Pmb",
      "execution_count": 5,
      "outputs": [
        {
          "output_type": "stream",
          "name": "stdout",
          "text": [
            "['Order', 'PID', 'MS SubClass', 'MS Zoning', 'Lot Frontage', 'Lot Area', 'Street', 'Alley', 'Lot Shape', 'Land Contour', 'Utilities', 'Lot Config', 'Land Slope', 'Neighborhood', 'Condition 1', 'Condition 2', 'Bldg Type', 'House Style', 'Overall Qual', 'Overall Cond', 'Year Built', 'Year Remod/Add', 'Roof Style', 'Roof Matl', 'Exterior 1st', 'Exterior 2nd', 'Mas Vnr Type', 'Mas Vnr Area', 'Exter Qual', 'Exter Cond', 'Foundation', 'Bsmt Qual', 'Bsmt Cond', 'Bsmt Exposure', 'BsmtFin Type 1', 'BsmtFin SF 1', 'BsmtFin Type 2', 'BsmtFin SF 2', 'Bsmt Unf SF', 'Total Bsmt SF', 'Heating', 'Heating QC', 'Central Air', 'Electrical', '1st Flr SF', '2nd Flr SF', 'Low Qual Fin SF', 'Gr Liv Area', 'Bsmt Full Bath', 'Bsmt Half Bath', 'Full Bath', 'Half Bath', 'Bedroom AbvGr', 'Kitchen AbvGr', 'Kitchen Qual', 'TotRms AbvGrd', 'Functional', 'Fireplaces', 'Fireplace Qu', 'Garage Type', 'Garage Yr Blt', 'Garage Finish', 'Garage Cars', 'Garage Area', 'Garage Qual', 'Garage Cond', 'Paved Drive', 'Wood Deck SF', 'Open Porch SF', 'Enclosed Porch', '3Ssn Porch', 'Screen Porch', 'Pool Area', 'Pool QC', 'Fence', 'Misc Feature', 'Misc Val', 'Mo Sold', 'Yr Sold', 'Sale Type', 'Sale Condition', 'SalePrice', 'SalePrice_Log']\n"
          ]
        }
      ]
    },
    {
      "cell_type": "code",
      "execution_count": 6,
      "id": "4d6aaf5b",
      "metadata": {
        "_cell_guid": "775a0827-a2d5-4e2b-8146-af21a913ae7b",
        "_uuid": "743eddec-0375-4502-ab56-b40609f9160c",
        "execution": {
          "iopub.execute_input": "2025-04-12T12:50:14.566880Z",
          "iopub.status.busy": "2025-04-12T12:50:14.566285Z",
          "iopub.status.idle": "2025-04-12T12:50:15.373023Z",
          "shell.execute_reply": "2025-04-12T12:50:15.372157Z"
        },
        "jupyter": {
          "outputs_hidden": false
        },
        "papermill": {
          "duration": 0.821155,
          "end_time": "2025-04-12T12:50:15.379300",
          "exception": false,
          "start_time": "2025-04-12T12:50:14.558145",
          "status": "completed"
        },
        "tags": [],
        "colab": {
          "base_uri": "https://localhost:8080/",
          "height": 1000
        },
        "id": "4d6aaf5b",
        "outputId": "1929bbb9-2cad-480a-8347-1d9e510b1cd6"
      },
      "outputs": [
        {
          "output_type": "display_data",
          "data": {
            "text/plain": [
              "<Figure size 1500x1500 with 2 Axes>"
            ],
            "image/png": "[encoded data removed]"
          },
          "metadata": {}
        }
      ],
      "source": [
        "\n",
        "numeric_cols = df_train.select_dtypes(include=np.number).columns.tolist()\n",
        "corrmat = df_train[numeric_cols].corr() # Use df_train as it now contains SalePrice_Log\n",
        "\n",
        "# Find correlations with SalePrice_Log, sort them\n",
        "k = 15 # Number of top correlations to show\n",
        "cols = corrmat.nlargest(k, 'SalePrice_Log')['SalePrice_Log'].index\n",
        "cm = np.corrcoef(df_train[cols].values.T)\n",
        "\n",
        "plt.figure(figsize=(k, k))\n",
        "sns.heatmap(cm, annot=True, square=True, fmt='.2f', cmap='coolwarm',\n",
        "            yticklabels=cols.values, xticklabels=cols.values)\n",
        "plt.title(f'Top {k-1} Correlated Features with SalePrice_Log')\n",
        "plt.show()\n",
        "\n",
        "# Insights: Features like 'OverallQual', 'GrLivArea', 'GarageCars', 'GarageArea', 'TotalBsmtSF', '1stFlrSF' are highly positively correlated with SalePrice_Log."
      ]
    },
    {
      "cell_type": "markdown",
      "id": "80305aab",
      "metadata": {
        "_cell_guid": "055b0645-62fb-4538-b811-ce371ed425b9",
        "_uuid": "9ce102a6-b465-4dd0-abaa-4b9842527610",
        "collapsed": false,
        "jupyter": {
          "outputs_hidden": false
        },
        "papermill": {
          "duration": 0.010886,
          "end_time": "2025-04-12T12:50:15.401434",
          "exception": false,
          "start_time": "2025-04-12T12:50:15.390548",
          "status": "completed"
        },
        "tags": [],
        "id": "80305aab"
      },
      "source": [
        "## 2. Preprocessing\n",
        "\n",
        "We need a robust preprocessing pipeline:\n",
        "1.  Separate features (X) and target (y = `SalePrice_Log`).\n",
        "2.  Handle missing values strategy:\n",
        "    *   For features where NA means \"None\" (e.g., 'PoolQC', 'Alley', 'Fence', 'MiscFeature', Garage related where NA implies no garage, Bsmt related where NA implies no basement): Impute with 'None' (for categorical) or 0 (for numerical like 'GarageArea', 'BsmtFinSF1').\n",
        "    *   For features where NA likely means truly missing data: Impute with median (for numerical) or mode (for categorical). ('LotFrontage' might benefit from group-wise median imputation, e.g., by Neighborhood).\n",
        "    *   Drop features with extremely high missing percentage if they seem uninformative (optional, handle carefully).\n",
        "3.  Transform skewed numerical features (using log1p like we did for SalePrice).\n",
        "4.  Encode categorical features:\n",
        "    *   Ordinal: For features with inherent order (e.g., quality ratings like 'Ex', 'Gd', 'TA', 'Fa', 'Po').\n",
        "    *   Nominal (One-Hot): For features with no inherent order (e.g., 'Neighborhood', 'MSSubClass' if treated as categorical).\n",
        "5.  Scale numerical features using `StandardScaler`."
      ]
    },
    {
      "cell_type": "code",
      "source": [
        "import numpy as np\n",
        "import pandas as pd\n",
        "\n",
        "from sklearn.pipeline import Pipeline\n",
        "from sklearn.compose import ColumnTransformer\n",
        "from sklearn.impute import SimpleImputer\n",
        "from sklearn.preprocessing import (\n",
        "    OneHotEncoder,\n",
        "    OrdinalEncoder,\n",
        "    StandardScaler,\n",
        "    FunctionTransformer\n",
        ")\n",
        "\n",
        "# 1) Load raw data\n",
        "train = pd.read_csv('/content/train.csv')\n",
        "test  = pd.read_csv('/content/test.csv')\n",
        "\n",
        "# Normalize column names: no spaces\n",
        "train.columns = train.columns.str.replace(' ', '')\n",
        "test.columns  = test.columns.str.replace(' ', '')\n",
        "\n",
        "# 2) Define feature groups\n",
        "\n",
        "# 2A. Numeric features (all numeric except Order, PID & SalePrice)\n",
        "numeric_features = (\n",
        "    train\n",
        "    .select_dtypes(include=['int64','float64'])\n",
        "    .drop(['Order','PID','SalePrice'], axis=1)\n",
        "    .columns\n",
        "    .tolist()\n",
        ")\n",
        "\n",
        "\n",
        "# 2B. True ordinal features (Po→Ex style only)\n",
        "# (After removing spaces from train.columns)\n",
        "true_ordinals = [\n",
        "    'ExterQual','ExterCond',\n",
        "    'BsmtQual','BsmtCond',\n",
        "    'HeatingQC','KitchenQual','FireplaceQu','PoolQC',\n",
        "    'GarageQual','GarageCond'\n",
        "]\n",
        "ordinal_features = [c for c in train.columns if c in true_ordinals]\n",
        "print(\"Ordinal features now:\", ordinal_features)\n",
        "\n",
        "# 2C. Remaining categoricals\n",
        "categorical_features = [\n",
        "    c for c in train.select_dtypes(include=['object']).columns\n",
        "    if c not in ordinal_features\n",
        "]\n",
        "\n",
        "# 3) Build sub‐pipelines\n",
        "\n",
        "# 3A. Numeric: impute median → log1p → standard scale\n",
        "numeric_pipeline = Pipeline([\n",
        "    ('impute', SimpleImputer(strategy='median')),\n",
        "    ('log',    FunctionTransformer(np.log1p, validate=False)),\n",
        "    ('scale',  StandardScaler())\n",
        "])\n",
        "\n",
        "# 3B. Ordinal: impute most frequent → encode with Po→Ex scale\n",
        "ord_cat = ['Po','Fa','TA','Gd','Ex']\n",
        "ordinal_pipeline = Pipeline([\n",
        "    ('impute', SimpleImputer(strategy='most_frequent')),\n",
        "    ('encode', OrdinalEncoder(categories=[ord_cat]*len(ordinal_features)))\n",
        "])\n",
        "\n",
        "# 3C. Categorical pipeline: fill missing with \"None\", then one-hot\n",
        "categorical_pipeline = Pipeline([\n",
        "    ('impute',   SimpleImputer(strategy='constant', fill_value='None')),\n",
        "    ('onehot',   OneHotEncoder(handle_unknown='ignore'))\n",
        "])\n",
        "\n",
        "# 4) Assemble ColumnTransformer\n",
        "preprocessor = ColumnTransformer([\n",
        "    ('num', numeric_pipeline,     numeric_features),\n",
        "    ('ord', ordinal_pipeline,     ordinal_features),\n",
        "    ('cat', categorical_pipeline, categorical_features)\n",
        "])\n",
        "\n",
        "# 5) Test on training set\n",
        "X_train_prep = preprocessor.fit_transform(train)\n",
        "print(\"Transformed shape:\", X_train_prep.shape)\n"
      ],
      "metadata": {
        "colab": {
          "base_uri": "https://localhost:8080/"
        },
        "id": "wKNzXBip5XSk",
        "outputId": "a2b480a4-b721-4040-98bd-f1871383789b"
      },
      "id": "wKNzXBip5XSk",
      "execution_count": 38,
      "outputs": [
        {
          "output_type": "stream",
          "name": "stdout",
          "text": [
            "Ordinal features now: ['ExterQual', 'ExterCond', 'BsmtQual', 'BsmtCond', 'HeatingQC', 'KitchenQual', 'FireplaceQu', 'GarageQual', 'GarageCond', 'PoolQC']\n",
            "Transformed shape: (1758, 265)\n"
          ]
        }
      ]
    },
    {
      "cell_type": "code",
      "execution_count": 32,
      "id": "da1b9d1e",
      "metadata": {
        "id": "da1b9d1e"
      },
      "outputs": [],
      "source": [
        "df_train.columns = df_train.columns.str.replace(' ', '')"
      ]
    },
    {
      "cell_type": "code",
      "execution_count": 33,
      "id": "56f01fba",
      "metadata": {
        "_cell_guid": "f5d07642-ee6b-4780-a25d-890fab1ccebc",
        "_uuid": "fd86fd74-1a5a-4b7e-b40b-8cd10c238619",
        "execution": {
          "iopub.execute_input": "2025-04-12T12:50:15.425487Z",
          "iopub.status.busy": "2025-04-12T12:50:15.425188Z",
          "iopub.status.idle": "2025-04-12T12:50:15.499516Z",
          "shell.execute_reply": "2025-04-12T12:50:15.498450Z"
        },
        "jupyter": {
          "outputs_hidden": false
        },
        "papermill": {
          "duration": 0.088548,
          "end_time": "2025-04-12T12:50:15.501080",
          "exception": false,
          "start_time": "2025-04-12T12:50:15.412532",
          "status": "completed"
        },
        "tags": [],
        "colab": {
          "base_uri": "https://localhost:8080/"
        },
        "id": "56f01fba",
        "outputId": "7f010625-4fbb-44e8-af3f-a81e5795e9aa"
      },
      "outputs": [
        {
          "output_type": "stream",
          "name": "stdout",
          "text": [
            "Shape of features X before preprocessing: (1758, 81)\n",
            "\n",
            "Numerical features identified for log transformation: ['PoolArea', 'MiscVal', 'LowQualFinSF', 'LotArea', '3SsnPorch', 'KitchenAbvGr', 'BsmtFinSF2', 'BsmtHalfBath', 'ScreenPorch', 'EnclosedPorch', 'OpenPorchSF', 'MasVnrArea', 'WoodDeckSF', 'LotFrontage', '1stFlrSF', 'GrLivArea', 'BsmtFinSF1', 'BsmtUnfSF', 'TotalBsmtSF', '2ndFlrSF', 'Fireplaces', 'TotRmsAbvGrd']\n",
            "\n",
            "Remaining NAs after manual imputation: 0\n"
          ]
        }
      ],
      "source": [
        "# Define target (using log-transformed price) and features\n",
        "y = df_train['SalePrice_Log']\n",
        "X = df_train.drop(['SalePrice', 'SalePrice_Log'], axis=1)\n",
        "\n",
        "print(f\"Shape of features X before preprocessing: {X.shape}\")\n",
        "\n",
        "# Identify numerical and categorical columns\n",
        "numerical_cols = X.select_dtypes(include=np.number).columns.tolist()\n",
        "categorical_cols = X.select_dtypes(include='object').columns.tolist()\n",
        "\n",
        "# Define features where NA means 'None' or 0\n",
        "cat_na_means_none = ['Alley', 'BsmtQual', 'BsmtCond', 'BsmtExposure', 'BsmtFinType1',\n",
        "                     'BsmtFinType2', 'FireplaceQu', 'GarageType', 'GarageFinish',\n",
        "                     'GarageQual', 'GarageCond', 'PoolQC', 'Fence', 'MiscFeature']\n",
        "num_na_means_zero = ['GarageYrBlt', 'GarageArea', 'GarageCars', 'BsmtFinSF1', 'BsmtFinSF2',\n",
        "                    'BsmtUnfSF', 'TotalBsmtSF', 'BsmtFullBath', 'BsmtHalfBath', 'MasVnrArea']\n",
        "\n",
        "# Identify features needing mode/median imputation\n",
        "cat_na_impute_mode = ['Electrical', 'MasVnrType', 'MSZoning', 'Functional',\n",
        "                      'Utilities', 'Exterior1st', 'Exterior2nd', 'KitchenQual', 'SaleType']\n",
        "# Note: Check actual missing counts to confirm these are the ones left needing mode/median after filling NA='None'/0\n",
        "# Example: 'LotFrontage' is numerical and often imputed by neighborhood median, more complex, let's use simple median for now.\n",
        "num_na_impute_median = ['LotFrontage'] # Only one needing simple median after handling NA=0 cases\n",
        "\n",
        "# Identify potentially ordinal features (example, adjust based on data dictionary)\n",
        "# This requires careful reading of the data description!\n",
        "ordinal_features_map = {\n",
        "    'ExterQual': ['Po', 'Fa', 'TA', 'Gd', 'Ex'],\n",
        "    'ExterCond': ['Po', 'Fa', 'TA', 'Gd', 'Ex'],\n",
        "    'BsmtQual': ['None', 'Po', 'Fa', 'TA', 'Gd', 'Ex'], # Added 'None' from imputation\n",
        "    'BsmtCond': ['None', 'Po', 'Fa', 'TA', 'Gd', 'Ex'], # Added 'None'\n",
        "    'BsmtExposure': ['None', 'No', 'Mn', 'Av', 'Gd'], # Added 'None'\n",
        "    'BsmtFinType1': ['None', 'Unf', 'LwQ', 'Rec', 'BLQ', 'ALQ', 'GLQ'], # Added 'None'\n",
        "    'BsmtFinType2': ['None', 'Unf', 'LwQ', 'Rec', 'BLQ', 'ALQ', 'GLQ'], # Added 'None'\n",
        "    'HeatingQC': ['Po', 'Fa', 'TA', 'Gd', 'Ex'],\n",
        "    'KitchenQual': ['None','Fa', 'TA', 'Gd', 'Ex'], # Assuming None is worst here after imputation\n",
        "    'FireplaceQu': ['None', 'Po', 'Fa', 'TA', 'Gd', 'Ex'], # Added 'None'\n",
        "    'GarageFinish': ['None', 'Unf', 'RFn', 'Fin'], # Added 'None'\n",
        "    'GarageQual': ['None', 'Po', 'Fa', 'TA', 'Gd', 'Ex'], # Added 'None'\n",
        "    'GarageCond': ['None', 'Po', 'Fa', 'TA', 'Gd', 'Ex'], # Added 'None'\n",
        "    'PoolQC': ['None', 'Fa', 'TA', 'Gd', 'Ex'], # Added 'None'\n",
        "    # Add other relevant ordinal features based on data dictionary, e.g. Utilities, Functional? LandSlope? PavedDrive?\n",
        "    'Utilities': ['ELO', 'NoSeWa', 'NoSewr', 'AllPub'],\n",
        "    'LandSlope': ['Sev', 'Mod', 'Gtl'],\n",
        "    'PavedDrive': ['N', 'P', 'Y'],\n",
        "}\n",
        "ordinal_cols = list(ordinal_features_map.keys())\n",
        "# Remaining categorical columns after removing ordinal ones\n",
        "nominal_cols = [col for col in categorical_cols if col not in ordinal_cols]\n",
        "\n",
        "# Log transform skewed numerical features (excluding discrete/year ones if desired)\n",
        "# Threshold for skewness\n",
        "skew_threshold = 0.75\n",
        "skewed_features = X[numerical_cols].apply(lambda x: skew(x.dropna())).sort_values(ascending=False)\n",
        "high_skew = skewed_features[abs(skewed_features) > skew_threshold].index\n",
        "\n",
        "# Exclude discrete or year features if log transform doesn't make sense\n",
        "exclude_from_log = ['MSSubClass', 'OverallQual', 'OverallCond', 'YearBuilt', 'YearRemodAdd', 'GarageYrBlt', 'MoSold', 'YrSold']\n",
        "features_to_log = [feat for feat in high_skew if feat not in exclude_from_log]\n",
        "\n",
        "print(f\"\\nNumerical features identified for log transformation: {features_to_log}\")\n",
        "for feat in features_to_log:\n",
        "    X[feat] = np.log1p(X[feat]) # Apply log1p\n",
        "\n",
        "# Create preprocessing pipelines\n",
        "# Numerical features pipeline\n",
        "# 1. Impute NA=0 where applicable\n",
        "# 2. Impute remaining NA with median\n",
        "# 3. Scale\n",
        "num_pipeline = Pipeline([\n",
        "    ('imputer_zero', SimpleImputer(strategy='constant', fill_value=0)), # For GarageYrBlt, etc., should be handled carefully, maybe mode? Using 0 here for simplicity.\n",
        "    # Note: This needs to be applied selectively. Let's refine.\n",
        "])\n",
        "# It's easier to handle NA=0 and NA=median imputation BEFORE the pipeline using fillna,\n",
        "# then the pipeline just needs Median Imputation (if any remaining NAs) + Scaling.\n",
        "\n",
        "# Fill NA based on meaning before pipeline\n",
        "for col in cat_na_means_none:\n",
        "    if col in X.columns: X[col] = X[col].fillna('None')\n",
        "for col in num_na_means_zero:\n",
        "    if col in X.columns: X[col] = X[col].fillna(0)\n",
        "\n",
        "# Now impute remaining numerical NAs with median\n",
        "for col in num_na_impute_median:\n",
        "     if col in X.columns: X[col] = X[col].fillna(X[col].median())\n",
        "\n",
        "# Now impute remaining categorical NAs with mode\n",
        "for col in cat_na_impute_mode:\n",
        "    if col in X.columns: X[col] = X[col].fillna(X[col].mode()[0])\n",
        "\n",
        "# Verify no more NAs\n",
        "print(f\"\\nRemaining NAs after manual imputation: {X.isnull().sum().sum()}\") # Should be 0\n",
        "\n",
        "# Now create pipelines for scaling and encoding (operating on pre-imputed data)\n",
        "numerical_transformer = Pipeline(steps=[\n",
        "    ('scaler', StandardScaler())\n",
        "])\n",
        "\n",
        "ordinal_transformer = Pipeline(steps=[\n",
        "    # Pass categories explicitly to handle potential missing categories in train/test splits later\n",
        "    ('ordinal', OrdinalEncoder(categories=[ordinal_features_map[col] for col in ordinal_cols], handle_unknown='use_encoded_value', unknown_value=-1)) # Handle unseen values\n",
        "])\n",
        "\n",
        "nominal_transformer = Pipeline(steps=[\n",
        "    ('onehot', OneHotEncoder(handle_unknown='ignore', sparse_output=False)) # handle_unknown='ignore' drops unseen categories\n",
        "])\n",
        "\n",
        "# Create the ColumnTransformer\n",
        "preprocessor = ColumnTransformer(\n",
        "    transformers=[\n",
        "        ('num', numerical_transformer, numerical_cols),\n",
        "        ('ord', ordinal_transformer, ordinal_cols),\n",
        "        ('nom', nominal_transformer, nominal_cols)\n",
        "    ],\n",
        "    remainder='passthrough' # Keep any columns not specified (shouldn't be any if lists are correct)\n",
        ")"
      ]
    },
    {
      "cell_type": "code",
      "execution_count": 34,
      "id": "f8fcb1cc",
      "metadata": {
        "_cell_guid": "95d26dea-f445-48ee-b4d8-89282cf1ce4d",
        "_uuid": "a3e2c4e7-1742-43a6-9ae0-43cfb60450f9",
        "execution": {
          "iopub.execute_input": "2025-04-12T12:50:15.525780Z",
          "iopub.status.busy": "2025-04-12T12:50:15.525449Z",
          "iopub.status.idle": "2025-04-12T12:50:15.607319Z",
          "shell.execute_reply": "2025-04-12T12:50:15.606024Z"
        },
        "jupyter": {
          "outputs_hidden": false
        },
        "papermill": {
          "duration": 0.096516,
          "end_time": "2025-04-12T12:50:15.609155",
          "exception": false,
          "start_time": "2025-04-12T12:50:15.512639",
          "status": "completed"
        },
        "tags": [],
        "colab": {
          "base_uri": "https://localhost:8080/"
        },
        "id": "f8fcb1cc",
        "outputId": "615f12dc-e954-4225-9894-995c0b9e37df"
      },
      "outputs": [
        {
          "output_type": "stream",
          "name": "stdout",
          "text": [
            "X_train shape: (1406, 81)\n",
            "X_val shape: (352, 81)\n",
            "\n",
            "Number of features after processing: 236\n",
            "Processed X_train shape: (1406, 236)\n",
            "Processed X_val shape: (352, 236)\n"
          ]
        }
      ],
      "source": [
        "# Apply preprocessing using pipeline\n",
        "# We'll fit the preprocessor inside the modeling step or when splitting data\n",
        "# Let's split the data first\n",
        "X_train, X_val, y_train, y_val = train_test_split(X, y, test_size=0.2, random_state=42)\n",
        "\n",
        "print(f\"X_train shape: {X_train.shape}\")\n",
        "print(f\"X_val shape: {X_val.shape}\")\n",
        "\n",
        "# Now fit the preprocessor on the training data and transform both sets\n",
        "X_train_processed = preprocessor.fit_transform(X_train)\n",
        "X_val_processed = preprocessor.transform(X_val)\n",
        "\n",
        "# Get feature names after transformation (optional, but good for understanding)\n",
        "try:\n",
        "    # Correctly construct feature names after transformations\n",
        "    num_features_out = numerical_cols\n",
        "    ord_features_out = ordinal_cols\n",
        "    # OneHotEncoder's get_feature_names_out needs input features list\n",
        "    nom_features_out = preprocessor.named_transformers_['nom'].get_feature_names_out(nominal_cols).tolist()\n",
        "\n",
        "    feature_names_out = num_features_out + ord_features_out + nom_features_out\n",
        "    print(f\"\\nNumber of features after processing: {len(feature_names_out)}\")\n",
        "    # print(feature_names_out) # Can be very long\n",
        "except Exception as e:\n",
        "    print(f\"\\nCould not retrieve feature names due to error: {e}\")\n",
        "    feature_names_out = None\n",
        "\n",
        "print(f\"Processed X_train shape: {X_train_processed.shape}\")\n",
        "print(f\"Processed X_val shape: {X_val_processed.shape}\")\n",
        "\n",
        "# Convert processed arrays back to DataFrames (optional)\n",
        "if feature_names_out is not None and len(feature_names_out) == X_train_processed.shape[1]:\n",
        "     X_train_processed_df = pd.DataFrame(X_train_processed, columns=feature_names_out)\n",
        "     X_val_processed_df = pd.DataFrame(X_val_processed, columns=feature_names_out)\n",
        "     # print(X_train_processed_df.head())\n",
        "else:\n",
        "     print(\"\\nCould not align processed data with feature names. Proceeding with NumPy arrays.\")\n",
        "     X_train_processed_df = X_train_processed # Keep as numpy array if names are problematic\n",
        "     X_val_processed_df = X_val_processed"
      ]
    },
    {
      "cell_type": "markdown",
      "id": "d2fec73f",
      "metadata": {
        "_cell_guid": "82fa899f-bc2c-478c-8893-ff9a52a0b7dc",
        "_uuid": "bf1feae8-f1b6-41d1-a4b6-ade34a485af3",
        "collapsed": false,
        "jupyter": {
          "outputs_hidden": false
        },
        "papermill": {
          "duration": 0.010923,
          "end_time": "2025-04-12T12:50:15.631567",
          "exception": false,
          "start_time": "2025-04-12T12:50:15.620644",
          "status": "completed"
        },
        "tags": [],
        "id": "d2fec73f"
      },
      "source": [
        "## 🦮 Train and Evaluate Regression Models"
      ]
    },
    {
      "cell_type": "markdown",
      "id": "01abac6b",
      "metadata": {
        "id": "01abac6b"
      },
      "source": [
        "### 🗻 Ridge regression\n",
        "\n",
        "We will train and evaluate a Ridge regression model evaluating it with [RMSLE](https://www.datascienceland.com/blog/difference-between-rmse-and-rmsle-656/) metric (as per the [competition rules](www.kaggle.com/competitions/house-prices-iaac/overview/evaluation))"
      ]
    },
    {
      "cell_type": "code",
      "execution_count": null,
      "id": "41e79067",
      "metadata": {
        "id": "41e79067"
      },
      "outputs": [],
      "source": [
        "#model = Ridge(alpha=10, random_state=42)"
      ]
    },
    {
      "cell_type": "code",
      "execution_count": null,
      "id": "ffe621aa",
      "metadata": {
        "id": "ffe621aa",
        "outputId": "c6940759-58d9-463d-e239-00ef4234ac7d"
      },
      "outputs": [
        {
          "data": {
            "text/html": [
              "<style>#sk-container-id-1 {\n",
              "  /* Definition of color scheme common for light and dark mode */\n",
              "  --sklearn-color-text: black;\n",
              "  --sklearn-color-line: gray;\n",
              "  /* Definition of color scheme for unfitted estimators */\n",
              "  --sklearn-color-unfitted-level-0: #fff5e6;\n",
              "  --sklearn-color-unfitted-level-1: #f6e4d2;\n",
              "  --sklearn-color-unfitted-level-2: #ffe0b3;\n",
              "  --sklearn-color-unfitted-level-3: chocolate;\n",
              "  /* Definition of color scheme for fitted estimators */\n",
              "  --sklearn-color-fitted-level-0: #f0f8ff;\n",
              "  --sklearn-color-fitted-level-1: #d4ebff;\n",
              "  --sklearn-color-fitted-level-2: #b3dbfd;\n",
              "  --sklearn-color-fitted-level-3: cornflowerblue;\n",
              "\n",
              "  /* Specific color for light theme */\n",
              "  --sklearn-color-text-on-default-background: var(--sg-text-color, var(--theme-code-foreground, var(--jp-content-font-color1, black)));\n",
              "  --sklearn-color-background: var(--sg-background-color, var(--theme-background, var(--jp-layout-color0, white)));\n",
              "  --sklearn-color-border-box: var(--sg-text-color, var(--theme-code-foreground, var(--jp-content-font-color1, black)));\n",
              "  --sklearn-color-icon: #696969;\n",
              "\n",
              "  @media (prefers-color-scheme: dark) {\n",
              "    /* Redefinition of color scheme for dark theme */\n",
              "    --sklearn-color-text-on-default-background: var(--sg-text-color, var(--theme-code-foreground, var(--jp-content-font-color1, white)));\n",
              "    --sklearn-color-background: var(--sg-background-color, var(--theme-background, var(--jp-layout-color0, #111)));\n",
              "    --sklearn-color-border-box: var(--sg-text-color, var(--theme-code-foreground, var(--jp-content-font-color1, white)));\n",
              "    --sklearn-color-icon: #878787;\n",
              "  }\n",
              "}\n",
              "\n",
              "#sk-container-id-1 {\n",
              "  color: var(--sklearn-color-text);\n",
              "}\n",
              "\n",
              "#sk-container-id-1 pre {\n",
              "  padding: 0;\n",
              "}\n",
              "\n",
              "#sk-container-id-1 input.sk-hidden--visually {\n",
              "  border: 0;\n",
              "  clip: rect(1px 1px 1px 1px);\n",
              "  clip: rect(1px, 1px, 1px, 1px);\n",
              "  height: 1px;\n",
              "  margin: -1px;\n",
              "  overflow: hidden;\n",
              "  padding: 0;\n",
              "  position: absolute;\n",
              "  width: 1px;\n",
              "}\n",
              "\n",
              "#sk-container-id-1 div.sk-dashed-wrapped {\n",
              "  border: 1px dashed var(--sklearn-color-line);\n",
              "  margin: 0 0.4em 0.5em 0.4em;\n",
              "  box-sizing: border-box;\n",
              "  padding-bottom: 0.4em;\n",
              "  background-color: var(--sklearn-color-background);\n",
              "}\n",
              "\n",
              "#sk-container-id-1 div.sk-container {\n",
              "  /* jupyter's `normalize.less` sets `[hidden] { display: none; }`\n",
              "     but bootstrap.min.css set `[hidden] { display: none !important; }`\n",
              "     so we also need the `!important` here to be able to override the\n",
              "     default hidden behavior on the sphinx rendered scikit-learn.org.\n",
              "     See: https://github.com/scikit-learn/scikit-learn/issues/21755 */\n",
              "  display: inline-block !important;\n",
              "  position: relative;\n",
              "}\n",
              "\n",
              "#sk-container-id-1 div.sk-text-repr-fallback {\n",
              "  display: none;\n",
              "}\n",
              "\n",
              "div.sk-parallel-item,\n",
              "div.sk-serial,\n",
              "div.sk-item {\n",
              "  /* draw centered vertical line to link estimators */\n",
              "  background-image: linear-gradient(var(--sklearn-color-text-on-default-background), var(--sklearn-color-text-on-default-background));\n",
              "  background-size: 2px 100%;\n",
              "  background-repeat: no-repeat;\n",
              "  background-position: center center;\n",
              "}\n",
              "\n",
              "/* Parallel-specific style estimator block */\n",
              "\n",
              "#sk-container-id-1 div.sk-parallel-item::after {\n",
              "  content: \"\";\n",
              "  width: 100%;\n",
              "  border-bottom: 2px solid var(--sklearn-color-text-on-default-background);\n",
              "  flex-grow: 1;\n",
              "}\n",
              "\n",
              "#sk-container-id-1 div.sk-parallel {\n",
              "  display: flex;\n",
              "  align-items: stretch;\n",
              "  justify-content: center;\n",
              "  background-color: var(--sklearn-color-background);\n",
              "  position: relative;\n",
              "}\n",
              "\n",
              "#sk-container-id-1 div.sk-parallel-item {\n",
              "  display: flex;\n",
              "  flex-direction: column;\n",
              "}\n",
              "\n",
              "#sk-container-id-1 div.sk-parallel-item:first-child::after {\n",
              "  align-self: flex-end;\n",
              "  width: 50%;\n",
              "}\n",
              "\n",
              "#sk-container-id-1 div.sk-parallel-item:last-child::after {\n",
              "  align-self: flex-start;\n",
              "  width: 50%;\n",
              "}\n",
              "\n",
              "#sk-container-id-1 div.sk-parallel-item:only-child::after {\n",
              "  width: 0;\n",
              "}\n",
              "\n",
              "/* Serial-specific style estimator block */\n",
              "\n",
              "#sk-container-id-1 div.sk-serial {\n",
              "  display: flex;\n",
              "  flex-direction: column;\n",
              "  align-items: center;\n",
              "  background-color: var(--sklearn-color-background);\n",
              "  padding-right: 1em;\n",
              "  padding-left: 1em;\n",
              "}\n",
              "\n",
              "\n",
              "/* Toggleable style: style used for estimator/Pipeline/ColumnTransformer box that is\n",
              "clickable and can be expanded/collapsed.\n",
              "- Pipeline and ColumnTransformer use this feature and define the default style\n",
              "- Estimators will overwrite some part of the style using the `sk-estimator` class\n",
              "*/\n",
              "\n",
              "/* Pipeline and ColumnTransformer style (default) */\n",
              "\n",
              "#sk-container-id-1 div.sk-toggleable {\n",
              "  /* Default theme specific background. It is overwritten whether we have a\n",
              "  specific estimator or a Pipeline/ColumnTransformer */\n",
              "  background-color: var(--sklearn-color-background);\n",
              "}\n",
              "\n",
              "/* Toggleable label */\n",
              "#sk-container-id-1 label.sk-toggleable__label {\n",
              "  cursor: pointer;\n",
              "  display: block;\n",
              "  width: 100%;\n",
              "  margin-bottom: 0;\n",
              "  padding: 0.5em;\n",
              "  box-sizing: border-box;\n",
              "  text-align: center;\n",
              "}\n",
              "\n",
              "#sk-container-id-1 label.sk-toggleable__label-arrow:before {\n",
              "  /* Arrow on the left of the label */\n",
              "  content: \"▸\";\n",
              "  float: left;\n",
              "  margin-right: 0.25em;\n",
              "  color: var(--sklearn-color-icon);\n",
              "}\n",
              "\n",
              "#sk-container-id-1 label.sk-toggleable__label-arrow:hover:before {\n",
              "  color: var(--sklearn-color-text);\n",
              "}\n",
              "\n",
              "/* Toggleable content - dropdown */\n",
              "\n",
              "#sk-container-id-1 div.sk-toggleable__content {\n",
              "  max-height: 0;\n",
              "  max-width: 0;\n",
              "  overflow: hidden;\n",
              "  text-align: left;\n",
              "  /* unfitted */\n",
              "  background-color: var(--sklearn-color-unfitted-level-0);\n",
              "}\n",
              "\n",
              "#sk-container-id-1 div.sk-toggleable__content.fitted {\n",
              "  /* fitted */\n",
              "  background-color: var(--sklearn-color-fitted-level-0);\n",
              "}\n",
              "\n",
              "#sk-container-id-1 div.sk-toggleable__content pre {\n",
              "  margin: 0.2em;\n",
              "  border-radius: 0.25em;\n",
              "  color: var(--sklearn-color-text);\n",
              "  /* unfitted */\n",
              "  background-color: var(--sklearn-color-unfitted-level-0);\n",
              "}\n",
              "\n",
              "#sk-container-id-1 div.sk-toggleable__content.fitted pre {\n",
              "  /* unfitted */\n",
              "  background-color: var(--sklearn-color-fitted-level-0);\n",
              "}\n",
              "\n",
              "#sk-container-id-1 input.sk-toggleable__control:checked~div.sk-toggleable__content {\n",
              "  /* Expand drop-down */\n",
              "  max-height: 200px;\n",
              "  max-width: 100%;\n",
              "  overflow: auto;\n",
              "}\n",
              "\n",
              "#sk-container-id-1 input.sk-toggleable__control:checked~label.sk-toggleable__label-arrow:before {\n",
              "  content: \"▾\";\n",
              "}\n",
              "\n",
              "/* Pipeline/ColumnTransformer-specific style */\n",
              "\n",
              "#sk-container-id-1 div.sk-label input.sk-toggleable__control:checked~label.sk-toggleable__label {\n",
              "  color: var(--sklearn-color-text);\n",
              "  background-color: var(--sklearn-color-unfitted-level-2);\n",
              "}\n",
              "\n",
              "#sk-container-id-1 div.sk-label.fitted input.sk-toggleable__control:checked~label.sk-toggleable__label {\n",
              "  background-color: var(--sklearn-color-fitted-level-2);\n",
              "}\n",
              "\n",
              "/* Estimator-specific style */\n",
              "\n",
              "/* Colorize estimator box */\n",
              "#sk-container-id-1 div.sk-estimator input.sk-toggleable__control:checked~label.sk-toggleable__label {\n",
              "  /* unfitted */\n",
              "  background-color: var(--sklearn-color-unfitted-level-2);\n",
              "}\n",
              "\n",
              "#sk-container-id-1 div.sk-estimator.fitted input.sk-toggleable__control:checked~label.sk-toggleable__label {\n",
              "  /* fitted */\n",
              "  background-color: var(--sklearn-color-fitted-level-2);\n",
              "}\n",
              "\n",
              "#sk-container-id-1 div.sk-label label.sk-toggleable__label,\n",
              "#sk-container-id-1 div.sk-label label {\n",
              "  /* The background is the default theme color */\n",
              "  color: var(--sklearn-color-text-on-default-background);\n",
              "}\n",
              "\n",
              "/* On hover, darken the color of the background */\n",
              "#sk-container-id-1 div.sk-label:hover label.sk-toggleable__label {\n",
              "  color: var(--sklearn-color-text);\n",
              "  background-color: var(--sklearn-color-unfitted-level-2);\n",
              "}\n",
              "\n",
              "/* Label box, darken color on hover, fitted */\n",
              "#sk-container-id-1 div.sk-label.fitted:hover label.sk-toggleable__label.fitted {\n",
              "  color: var(--sklearn-color-text);\n",
              "  background-color: var(--sklearn-color-fitted-level-2);\n",
              "}\n",
              "\n",
              "/* Estimator label */\n",
              "\n",
              "#sk-container-id-1 div.sk-label label {\n",
              "  font-family: monospace;\n",
              "  font-weight: bold;\n",
              "  display: inline-block;\n",
              "  line-height: 1.2em;\n",
              "}\n",
              "\n",
              "#sk-container-id-1 div.sk-label-container {\n",
              "  text-align: center;\n",
              "}\n",
              "\n",
              "/* Estimator-specific */\n",
              "#sk-container-id-1 div.sk-estimator {\n",
              "  font-family: monospace;\n",
              "  border: 1px dotted var(--sklearn-color-border-box);\n",
              "  border-radius: 0.25em;\n",
              "  box-sizing: border-box;\n",
              "  margin-bottom: 0.5em;\n",
              "  /* unfitted */\n",
              "  background-color: var(--sklearn-color-unfitted-level-0);\n",
              "}\n",
              "\n",
              "#sk-container-id-1 div.sk-estimator.fitted {\n",
              "  /* fitted */\n",
              "  background-color: var(--sklearn-color-fitted-level-0);\n",
              "}\n",
              "\n",
              "/* on hover */\n",
              "#sk-container-id-1 div.sk-estimator:hover {\n",
              "  /* unfitted */\n",
              "  background-color: var(--sklearn-color-unfitted-level-2);\n",
              "}\n",
              "\n",
              "#sk-container-id-1 div.sk-estimator.fitted:hover {\n",
              "  /* fitted */\n",
              "  background-color: var(--sklearn-color-fitted-level-2);\n",
              "}\n",
              "\n",
              "/* Specification for estimator info (e.g. \"i\" and \"?\") */\n",
              "\n",
              "/* Common style for \"i\" and \"?\" */\n",
              "\n",
              ".sk-estimator-doc-link,\n",
              "a:link.sk-estimator-doc-link,\n",
              "a:visited.sk-estimator-doc-link {\n",
              "  float: right;\n",
              "  font-size: smaller;\n",
              "  line-height: 1em;\n",
              "  font-family: monospace;\n",
              "  background-color: var(--sklearn-color-background);\n",
              "  border-radius: 1em;\n",
              "  height: 1em;\n",
              "  width: 1em;\n",
              "  text-decoration: none !important;\n",
              "  margin-left: 1ex;\n",
              "  /* unfitted */\n",
              "  border: var(--sklearn-color-unfitted-level-1) 1pt solid;\n",
              "  color: var(--sklearn-color-unfitted-level-1);\n",
              "}\n",
              "\n",
              ".sk-estimator-doc-link.fitted,\n",
              "a:link.sk-estimator-doc-link.fitted,\n",
              "a:visited.sk-estimator-doc-link.fitted {\n",
              "  /* fitted */\n",
              "  border: var(--sklearn-color-fitted-level-1) 1pt solid;\n",
              "  color: var(--sklearn-color-fitted-level-1);\n",
              "}\n",
              "\n",
              "/* On hover */\n",
              "div.sk-estimator:hover .sk-estimator-doc-link:hover,\n",
              ".sk-estimator-doc-link:hover,\n",
              "div.sk-label-container:hover .sk-estimator-doc-link:hover,\n",
              ".sk-estimator-doc-link:hover {\n",
              "  /* unfitted */\n",
              "  background-color: var(--sklearn-color-unfitted-level-3);\n",
              "  color: var(--sklearn-color-background);\n",
              "  text-decoration: none;\n",
              "}\n",
              "\n",
              "div.sk-estimator.fitted:hover .sk-estimator-doc-link.fitted:hover,\n",
              ".sk-estimator-doc-link.fitted:hover,\n",
              "div.sk-label-container:hover .sk-estimator-doc-link.fitted:hover,\n",
              ".sk-estimator-doc-link.fitted:hover {\n",
              "  /* fitted */\n",
              "  background-color: var(--sklearn-color-fitted-level-3);\n",
              "  color: var(--sklearn-color-background);\n",
              "  text-decoration: none;\n",
              "}\n",
              "\n",
              "/* Span, style for the box shown on hovering the info icon */\n",
              ".sk-estimator-doc-link span {\n",
              "  display: none;\n",
              "  z-index: 9999;\n",
              "  position: relative;\n",
              "  font-weight: normal;\n",
              "  right: .2ex;\n",
              "  padding: .5ex;\n",
              "  margin: .5ex;\n",
              "  width: min-content;\n",
              "  min-width: 20ex;\n",
              "  max-width: 50ex;\n",
              "  color: var(--sklearn-color-text);\n",
              "  box-shadow: 2pt 2pt 4pt #999;\n",
              "  /* unfitted */\n",
              "  background: var(--sklearn-color-unfitted-level-0);\n",
              "  border: .5pt solid var(--sklearn-color-unfitted-level-3);\n",
              "}\n",
              "\n",
              ".sk-estimator-doc-link.fitted span {\n",
              "  /* fitted */\n",
              "  background: var(--sklearn-color-fitted-level-0);\n",
              "  border: var(--sklearn-color-fitted-level-3);\n",
              "}\n",
              "\n",
              ".sk-estimator-doc-link:hover span {\n",
              "  display: block;\n",
              "}\n",
              "\n",
              "/* \"?\"-specific style due to the `<a>` HTML tag */\n",
              "\n",
              "#sk-container-id-1 a.estimator_doc_link {\n",
              "  float: right;\n",
              "  font-size: 1rem;\n",
              "  line-height: 1em;\n",
              "  font-family: monospace;\n",
              "  background-color: var(--sklearn-color-background);\n",
              "  border-radius: 1rem;\n",
              "  height: 1rem;\n",
              "  width: 1rem;\n",
              "  text-decoration: none;\n",
              "  /* unfitted */\n",
              "  color: var(--sklearn-color-unfitted-level-1);\n",
              "  border: var(--sklearn-color-unfitted-level-1) 1pt solid;\n",
              "}\n",
              "\n",
              "#sk-container-id-1 a.estimator_doc_link.fitted {\n",
              "  /* fitted */\n",
              "  border: var(--sklearn-color-fitted-level-1) 1pt solid;\n",
              "  color: var(--sklearn-color-fitted-level-1);\n",
              "}\n",
              "\n",
              "/* On hover */\n",
              "#sk-container-id-1 a.estimator_doc_link:hover {\n",
              "  /* unfitted */\n",
              "  background-color: var(--sklearn-color-unfitted-level-3);\n",
              "  color: var(--sklearn-color-background);\n",
              "  text-decoration: none;\n",
              "}\n",
              "\n",
              "#sk-container-id-1 a.estimator_doc_link.fitted:hover {\n",
              "  /* fitted */\n",
              "  background-color: var(--sklearn-color-fitted-level-3);\n",
              "}\n",
              "</style><div id=\"sk-container-id-1\" class=\"sk-top-container\"><div class=\"sk-text-repr-fallback\"><pre>Ridge(alpha=10, random_state=42)</pre><b>In a Jupyter environment, please rerun this cell to show the HTML representation or trust the notebook. <br />On GitHub, the HTML representation is unable to render, please try loading this page with nbviewer.org.</b></div><div class=\"sk-container\" hidden><div class=\"sk-item\"><div class=\"sk-estimator fitted sk-toggleable\"><input class=\"sk-toggleable__control sk-hidden--visually\" id=\"sk-estimator-id-1\" type=\"checkbox\" checked><label for=\"sk-estimator-id-1\" class=\"sk-toggleable__label fitted sk-toggleable__label-arrow fitted\">&nbsp;&nbsp;Ridge<a class=\"sk-estimator-doc-link fitted\" rel=\"noreferrer\" target=\"_blank\" href=\"https://scikit-learn.org/1.4/modules/generated/sklearn.linear_model.Ridge.html\">?<span>Documentation for Ridge</span></a><span class=\"sk-estimator-doc-link fitted\">i<span>Fitted</span></span></label><div class=\"sk-toggleable__content fitted\"><pre>Ridge(alpha=10, random_state=42)</pre></div> </div></div></div></div>"
            ],
            "text/plain": [
              "Ridge(alpha=10, random_state=42)"
            ]
          },
          "execution_count": 18,
          "metadata": {},
          "output_type": "execute_result"
        }
      ],
      "source": [
        "#model.fit(X_train_processed_df, y_train) # Use DataFrame or NumPy array"
      ]
    },
    {
      "cell_type": "code",
      "execution_count": null,
      "id": "772dfdbb",
      "metadata": {
        "id": "772dfdbb"
      },
      "outputs": [],
      "source": [
        "#y_pred_log_val = model.predict(X_val_processed_df)"
      ]
    },
    {
      "cell_type": "code",
      "execution_count": null,
      "id": "e8782015",
      "metadata": {
        "id": "e8782015",
        "outputId": "09c9fdca-4b1b-4e19-9f89-0932cde9c085"
      },
      "outputs": [
        {
          "data": {
            "text/plain": [
              "array([12.21735392, 11.9410421 , 11.99447589, 11.8383964 , 12.10412785,\n",
              "       12.68159651, 12.20333556, 11.70542859, 12.27193166, 11.95889979])"
            ]
          },
          "execution_count": 42,
          "metadata": {},
          "output_type": "execute_result"
        }
      ],
      "source": [
        "#y_pred_log_val[:10]"
      ]
    },
    {
      "cell_type": "code",
      "execution_count": null,
      "id": "3e4f33c7",
      "metadata": {
        "id": "3e4f33c7",
        "outputId": "6ba254a0-bc31-4d48-a817-b0797d9c005e"
      },
      "outputs": [
        {
          "data": {
            "text/plain": [
              "0.1313432845213803"
            ]
          },
          "execution_count": 21,
          "metadata": {},
          "output_type": "execute_result"
        }
      ],
      "source": [
        "#rmse_log = np.sqrt(mean_squared_error(y_val, y_pred_log_val))\n",
        "#rmse_log"
      ]
    },
    {
      "cell_type": "code",
      "source": [
        "print(\"Pipeline numeric features (first 5):\", numeric_features[:5], \"...\")\n",
        "print(\"Pipeline ordinal features:\", ordinal_features)\n",
        "print(\"Pipeline categorical features (first 5):\", categorical_features[:5], \"...\")\n"
      ],
      "metadata": {
        "colab": {
          "base_uri": "https://localhost:8080/"
        },
        "id": "NLKRIPg6Di12",
        "outputId": "f6521fd9-4e61-4d6e-a165-f8be5d7bcf70"
      },
      "id": "NLKRIPg6Di12",
      "execution_count": 36,
      "outputs": [
        {
          "output_type": "stream",
          "name": "stdout",
          "text": [
            "Pipeline numeric features (first 5): ['Order', 'PID', 'MSSubClass', 'LotFrontage', 'LotArea'] ...\n",
            "Pipeline ordinal features: ['ExterQual', 'ExterCond', 'BsmtQual', 'BsmtCond', 'HeatingQC', 'KitchenQual', 'FireplaceQu', 'GarageQual', 'GarageCond', 'PoolQC']\n",
            "Pipeline categorical features (first 5): ['MSZoning', 'Street', 'Alley', 'LotShape', 'LandContour'] ...\n"
          ]
        }
      ]
    },
    {
      "cell_type": "code",
      "source": [
        "# --- Step 4: Benchmark several regressors via 5-fold CV ---\n",
        "import numpy as np\n",
        "from sklearn.pipeline        import Pipeline\n",
        "from sklearn.linear_model    import Ridge, Lasso, ElasticNet\n",
        "from sklearn.ensemble        import RandomForestRegressor, GradientBoostingRegressor\n",
        "from sklearn.model_selection import cross_val_score\n",
        "from sklearn.compose import TransformedTargetRegressor\n",
        "\n",
        "\n",
        "# 1) Prepare data for CV: drop ID columns, keep raw SalePrice\n",
        "X = train.drop(['Order','PID','SalePrice'], axis=1)\n",
        "y = train['SalePrice']   # pass the raw target; RMSLE scorer will log1p internally\n",
        "\n",
        "\n",
        "print(\"X.columns (first 10):\", X.columns.tolist()[:10], \"…\")\n",
        "\n",
        "# 2) Define a handful of candidate models\n",
        "models = {\n",
        "    'Ridge': TransformedTargetRegressor(\n",
        "                 regressor=Ridge(random_state=42),\n",
        "                 func=np.log1p,\n",
        "                 inverse_func=np.expm1\n",
        "             ),\n",
        "    'Lasso': TransformedTargetRegressor(\n",
        "                 regressor=Lasso(random_state=42),\n",
        "                 func=np.log1p,\n",
        "                 inverse_func=np.expm1\n",
        "             ),\n",
        "    'ElasticNet': TransformedTargetRegressor(\n",
        "                      regressor=ElasticNet(random_state=42),\n",
        "                      func=np.log1p,\n",
        "                      inverse_func=np.expm1\n",
        "                  ),\n",
        "    'RF': RandomForestRegressor(n_estimators=300, random_state=42),\n",
        "    'GBM': GradientBoostingRegressor(n_estimators=300, random_state=42)\n",
        "}\n",
        "\n",
        "# 3) Run cross-validation for each\n",
        "for name, estimator in models.items():\n",
        "    pipe = Pipeline([\n",
        "        ('prep',  preprocessor),\n",
        "        ('model', estimator)\n",
        "    ])\n",
        "    # note: scoring returns negative RMSLE, so we negate to make it positive\n",
        "    neg_scores = cross_val_score(\n",
        "        pipe,\n",
        "        X,\n",
        "        y,\n",
        "        cv=5,\n",
        "        scoring='neg_root_mean_squared_log_error',\n",
        "        n_jobs=-1\n",
        "    )\n",
        "    rmsle_scores = -neg_scores\n",
        "    print(f\"{name:10s} CV RMSLE: {rmsle_scores.mean():.4f} ± {rmsle_scores.std():.4f}\")\n"
      ],
      "metadata": {
        "colab": {
          "base_uri": "https://localhost:8080/"
        },
        "id": "4onKWh1z0shb",
        "outputId": "c6d4f7af-18b4-460f-8289-a811d8fcb941"
      },
      "id": "4onKWh1z0shb",
      "execution_count": 52,
      "outputs": [
        {
          "output_type": "stream",
          "name": "stdout",
          "text": [
            "X.columns (first 10): ['MSSubClass', 'MSZoning', 'LotFrontage', 'LotArea', 'Street', 'Alley', 'LotShape', 'LandContour', 'Utilities', 'LotConfig'] …\n",
            "Ridge      CV RMSLE: 0.1323 ± 0.0149\n",
            "Lasso      CV RMSLE: 0.4015 ± 0.0260\n",
            "ElasticNet CV RMSLE: 0.4015 ± 0.0260\n",
            "RF         CV RMSLE: 0.1506 ± 0.0118\n",
            "GBM        CV RMSLE: 0.1383 ± 0.0125\n"
          ]
        }
      ]
    },
    {
      "cell_type": "code",
      "source": [
        "# More Benchmark XGB, LGBM, SVR, KNN & ExtraTrees ---\n",
        "\n",
        "import numpy as np\n",
        "from sklearn.pipeline        import Pipeline\n",
        "from sklearn.model_selection import cross_val_score\n",
        "\n",
        "# 1) Imports for the new models\n",
        "from xgboost                  import XGBRegressor\n",
        "from lightgbm                 import LGBMRegressor\n",
        "from sklearn.svm              import SVR\n",
        "from sklearn.neighbors        import KNeighborsRegressor\n",
        "from sklearn.ensemble         import ExtraTreesRegressor\n",
        "\n",
        "# 2) Prepare X, y again (raw target!)\n",
        "X = train.drop(['Order','PID','SalePrice'], axis=1)\n",
        "y = train['SalePrice']\n",
        "\n",
        "# 3) Define the additional models\n",
        "extra_models = {\n",
        "    'XGB'        : XGBRegressor(random_state=42, verbosity=0, n_jobs=-1),\n",
        "    'LGBM'       : LGBMRegressor(random_state=42, n_jobs=-1),\n",
        "    'SVR'        : SVR(),                              # uses our scaled features\n",
        "    'KNN'        : KNeighborsRegressor(n_neighbors=5), # default k=5\n",
        "    'ExtraTrees' : ExtraTreesRegressor(random_state=42, n_jobs=-1)\n",
        "}\n",
        "\n",
        "# 4) Run 5-fold CV on each\n",
        "for name, estimator in extra_models.items():\n",
        "    pipe = Pipeline([\n",
        "        ('prep',  preprocessor),\n",
        "        ('model', estimator)\n",
        "    ])\n",
        "    neg_scores = cross_val_score(\n",
        "        pipe,\n",
        "        X,\n",
        "        y,\n",
        "        cv=5,\n",
        "        scoring='neg_root_mean_squared_log_error',\n",
        "        n_jobs=-1\n",
        "    )\n",
        "    rmsle_scores = -neg_scores\n",
        "    print(f\"{name:10s} CV RMSLE: {rmsle_scores.mean():.4f} ± {rmsle_scores.std():.4f}\")\n"
      ],
      "metadata": {
        "colab": {
          "base_uri": "https://localhost:8080/"
        },
        "id": "SsqtXE0-aiLy",
        "outputId": "9bbf3336-d10e-4bea-f545-375e9b121d65"
      },
      "id": "SsqtXE0-aiLy",
      "execution_count": 53,
      "outputs": [
        {
          "output_type": "stream",
          "name": "stdout",
          "text": [
            "XGB        CV RMSLE: 0.1547 ± 0.0181\n",
            "LGBM       CV RMSLE: 0.1382 ± 0.0108\n",
            "SVR        CV RMSLE: 0.4021 ± 0.0248\n",
            "KNN        CV RMSLE: 0.1788 ± 0.0183\n",
            "ExtraTrees CV RMSLE: 0.1484 ± 0.0146\n"
          ]
        }
      ]
    },
    {
      "cell_type": "code",
      "source": [
        "# --- Ridge regression with coefficient inspection ---\n",
        "from sklearn.linear_model import Ridge\n",
        "from sklearn.metrics   import mean_squared_error\n",
        "\n",
        "# 1) Instantiate & fit on your training split\n",
        "model = Ridge(alpha=1.0, random_state=42)\n",
        "model.fit(X_train_processed_df, y_train)\n",
        "\n",
        "# 2) Evaluate on your validation split\n",
        "y_pred_val = model.predict(X_val_processed_df)\n",
        "rmsle_val = np.sqrt(mean_squared_error(np.log1p(np.expm1(y_val)),\n",
        "                                       np.log1p(np.expm1(y_pred_val))))\n",
        "print(f\"Validation RMSLE: {rmsle_val:.4f}\")\n",
        "\n",
        "# 3) Grab the coefficients and tie them back to feature names\n",
        "coefs = pd.Series(model.coef_, index=feature_names_out)\n",
        "\n",
        "# 4) Sort by absolute impact, and show the top 10\n",
        "top_pos =  coefs.nlargest(10)\n",
        "top_neg =  coefs.nsmallest(10)\n",
        "\n",
        "print(\"\\nTop 10 positive coefficients:\")\n",
        "print(top_pos)\n",
        "print(\"\\nTop 10 negative coefficients:\")\n",
        "print(top_neg)\n"
      ],
      "metadata": {
        "colab": {
          "base_uri": "https://localhost:8080/"
        },
        "id": "McMni_0irN3o",
        "outputId": "192039b3-b413-4cf5-b874-566757456368"
      },
      "id": "McMni_0irN3o",
      "execution_count": 40,
      "outputs": [
        {
          "output_type": "stream",
          "name": "stdout",
          "text": [
            "Validation RMSLE: 0.1320\n",
            "\n",
            "Top 10 positive coefficients:\n",
            "Neighborhood_GrnHill    0.292523\n",
            "MiscFeature_Gar2        0.213530\n",
            "MiscFeature_Shed        0.138798\n",
            "Functional_Typ          0.135034\n",
            "MiscFeature_Othr        0.134617\n",
            "GrLivArea               0.134265\n",
            "MSZoning_FV             0.121630\n",
            "Neighborhood_StoneBr    0.111388\n",
            "Functional_Min1         0.101775\n",
            "Condition2_PosA         0.095076\n",
            "dtype: float64\n",
            "\n",
            "Top 10 negative coefficients:\n",
            "MiscFeature_Elev        -0.532933\n",
            "Functional_Sal          -0.382876\n",
            "MSZoning_A (agr)        -0.283414\n",
            "Condition2_Artery       -0.122937\n",
            "Neighborhood_MeadowV    -0.111293\n",
            "GarageType_CarPort      -0.101470\n",
            "RoofStyle_Mansard       -0.095195\n",
            "SaleCondition_Abnorml   -0.089034\n",
            "Foundation_Wood         -0.085163\n",
            "Neighborhood_SawyerW    -0.079475\n",
            "dtype: float64\n"
          ]
        }
      ]
    },
    {
      "cell_type": "markdown",
      "id": "da976a13",
      "metadata": {
        "id": "da976a13"
      },
      "source": [
        "#### Hyperparameters"
      ]
    },
    {
      "cell_type": "markdown",
      "source": [
        "> a | Ridge GridSearchCV"
      ],
      "metadata": {
        "id": "pGU4nAJSHjFF"
      },
      "id": "pGU4nAJSHjFF"
    },
    {
      "cell_type": "markdown",
      "source": [
        "> What it does:\n",
        "- tries 13 different αs, picks the one minimizing RMSLE.\n",
        "- Picks the one with the lowest average RMSLE across 5 folds."
      ],
      "metadata": {
        "id": "Bs9w02aDHvvk"
      },
      "id": "Bs9w02aDHvvk"
    },
    {
      "cell_type": "code",
      "source": [
        "from sklearn.model_selection import GridSearchCV\n",
        "\n",
        "# 1) Pipeline wrapping\n",
        "ridge_pipe = Pipeline([\n",
        "    ('prep',  preprocessor),\n",
        "    ('model', Ridge(random_state=42))\n",
        "])\n",
        "\n",
        "# 2) Param grid: test a range of alphas\n",
        "ridge_param_grid = {\n",
        "    'model__alpha': np.logspace(-3, 3, 13)  # [0.001,0.01,0.1,...,1e3]\n",
        "}\n",
        "\n",
        "# 3) Grid search\n",
        "ridge_search = GridSearchCV(\n",
        "    ridge_pipe,\n",
        "    ridge_param_grid,\n",
        "    cv=5,\n",
        "    scoring='neg_root_mean_squared_log_error',\n",
        "    n_jobs=-1\n",
        ")\n",
        "ridge_search.fit(X, y)  # X, y defined earlier (with log1p)\n",
        "\n",
        "# 4) Results\n",
        "print(\"Best α:\", ridge_search.best_params_['model__alpha'])\n",
        "print(\"Best CV RMSLE:\", -ridge_search.best_score_)\n"
      ],
      "metadata": {
        "colab": {
          "base_uri": "https://localhost:8080/"
        },
        "id": "s6Alu33NHizj",
        "outputId": "b4854e4d-8ca8-4232-df17-933f8ca6cf05"
      },
      "id": "s6Alu33NHizj",
      "execution_count": 41,
      "outputs": [
        {
          "output_type": "stream",
          "name": "stdout",
          "text": [
            "Best α: 31.622776601683793\n",
            "Best CV RMSLE: 0.009930849985636047\n"
          ]
        }
      ]
    },
    {
      "cell_type": "markdown",
      "source": [
        "> An α of ~31.6 means we’re using moderately strong regularization—small enough to let the model learn, big enough to prevent over-fitting.\n"
      ],
      "metadata": {
        "id": "4l9NfQzcNQzV"
      },
      "id": "4l9NfQzcNQzV"
    },
    {
      "cell_type": "markdown",
      "source": [
        "b | RandomForest RandomizedSearchCV"
      ],
      "metadata": {
        "id": "4xDJWtZfH2E-"
      },
      "id": "4xDJWtZfH2E-"
    },
    {
      "cell_type": "markdown",
      "source": [
        "> Why Randomized?\n",
        "  A full grid would be huge, random sampling over 20 trials gets us strong candidates quickly."
      ],
      "metadata": {
        "id": "Nazb0WwIH5UY"
      },
      "id": "Nazb0WwIH5UY"
    },
    {
      "cell_type": "code",
      "source": [
        "from sklearn.model_selection import RandomizedSearchCV\n",
        "from sklearn.ensemble       import RandomForestRegressor\n",
        "\n",
        "rf_pipe = Pipeline([\n",
        "    ('prep' , preprocessor),\n",
        "    ('model', RandomForestRegressor(random_state=42))\n",
        "])\n",
        "\n",
        "# a much smaller dist\n",
        "rf_param_dist = {\n",
        "    'model__n_estimators'   : [100, 300],\n",
        "    'model__max_depth'      : [None, 10],\n",
        "    'model__min_samples_leaf': [1, 3]\n",
        "}\n",
        "\n",
        "rf_search = RandomizedSearchCV(\n",
        "    rf_pipe,\n",
        "    rf_param_dist,\n",
        "    n_iter=5,               # only 5 trials now\n",
        "    cv=3,                   # 3-fold CV\n",
        "    scoring='neg_root_mean_squared_log_error',\n",
        "    n_jobs=-1,\n",
        "    random_state=42\n",
        ")\n",
        "\n",
        "rf_search.fit(X, y)\n",
        "print(\"→ RF best params:\", rf_search.best_params_)\n",
        "print(\"→ RF best CV RMSLE:\", -rf_search.best_score_)\n"
      ],
      "metadata": {
        "colab": {
          "base_uri": "https://localhost:8080/"
        },
        "id": "xbLEXb2HHgoA",
        "outputId": "c462e25f-4f03-47ac-9c16-ba4ac30f5f6e"
      },
      "id": "xbLEXb2HHgoA",
      "execution_count": 46,
      "outputs": [
        {
          "output_type": "stream",
          "name": "stdout",
          "text": [
            "→ RF best params: {'model__n_estimators': 300, 'model__min_samples_leaf': 3, 'model__max_depth': 10}\n",
            "→ RF best CV RMSLE: 0.012381935601665112\n"
          ]
        }
      ]
    },
    {
      "cell_type": "markdown",
      "source": [
        "> The forest did best with 300 trees, max depth=10, and min_samples_leaf=3—so it’s a relatively shallow, less-overfitting ensemble.\n"
      ],
      "metadata": {
        "id": "OpAWv0JdNYAz"
      },
      "id": "OpAWv0JdNYAz"
    },
    {
      "cell_type": "markdown",
      "source": [
        "> c | Gradient Boosting RandomizedSearchCV"
      ],
      "metadata": {
        "id": "ssAcWQYBIsUy"
      },
      "id": "ssAcWQYBIsUy"
    },
    {
      "cell_type": "code",
      "source": [
        "from sklearn.model_selection import RandomizedSearchCV\n",
        "from sklearn.ensemble       import GradientBoostingRegressor\n",
        "\n",
        "gbm_pipe = Pipeline([\n",
        "    ('prep' , preprocessor),\n",
        "    ('model', GradientBoostingRegressor(random_state=42))\n",
        "])\n",
        "\n",
        "gbm_param_dist = {\n",
        "    'model__n_estimators'  : [100, 300],\n",
        "    'model__learning_rate' : [0.01, 0.1],\n",
        "    'model__max_depth'     : [3, 5],\n",
        "    'model__subsample'     : [0.8, 1.0]\n",
        "}\n",
        "\n",
        "gbm_search = RandomizedSearchCV(\n",
        "    gbm_pipe,\n",
        "    gbm_param_dist,\n",
        "    n_iter=5,               # just 5 trials\n",
        "    cv=3,                   # 3-fold CV\n",
        "    scoring='neg_root_mean_squared_log_error',\n",
        "    n_jobs=-1,\n",
        "    random_state=42\n",
        ")\n",
        "\n",
        "gbm_search.fit(X, y)\n",
        "print(\"→ GBM best params:\", gbm_search.best_params_)\n",
        "print(\"→ GBM best CV RMSLE:\", -gbm_search.best_score_)\n"
      ],
      "metadata": {
        "colab": {
          "base_uri": "https://localhost:8080/"
        },
        "id": "A0lqPbnUI2cJ",
        "outputId": "7e0ea713-76cd-4f5a-f194-a0d1cac0f3ed"
      },
      "id": "A0lqPbnUI2cJ",
      "execution_count": 47,
      "outputs": [
        {
          "output_type": "stream",
          "name": "stdout",
          "text": [
            "→ GBM best params: {'model__subsample': 0.8, 'model__n_estimators': 300, 'model__max_depth': 5, 'model__learning_rate': 0.1}\n",
            "→ GBM best CV RMSLE: 0.011328657083855706\n"
          ]
        }
      ]
    },
    {
      "cell_type": "markdown",
      "source": [
        " > A 0.8 subsample and lr=0.1 gave us the sweet spot: enough randomness to generalize, but still learning sharply.\n"
      ],
      "metadata": {
        "id": "Tm38UvWeNz-Q"
      },
      "id": "Tm38UvWeNz-Q"
    },
    {
      "cell_type": "markdown",
      "id": "4ec07922",
      "metadata": {
        "id": "4ec07922"
      },
      "source": [
        "This model (as almost any other) has a set of parameters that impact its performance. Let's try different ones and see which ones work best for our data."
      ]
    },
    {
      "cell_type": "code",
      "execution_count": 48,
      "id": "f782fb41",
      "metadata": {
        "colab": {
          "base_uri": "https://localhost:8080/"
        },
        "id": "f782fb41",
        "outputId": "4fe07d7e-51fb-445e-c8a5-c38fc548ccf3"
      },
      "outputs": [
        {
          "output_type": "stream",
          "name": "stdout",
          "text": [
            "Ridge Model (alpha=0, solver=auto) - RMSLE: 557157588750.6141\n",
            "Ridge Model (alpha=0, solver=svd) - RMSLE: 557157588750.6141\n",
            "Ridge Model (alpha=1, solver=auto) - RMSLE: 0.1320\n",
            "Ridge Model (alpha=1, solver=svd) - RMSLE: 0.1320\n",
            "Ridge Model (alpha=2, solver=auto) - RMSLE: 0.1317\n",
            "Ridge Model (alpha=2, solver=svd) - RMSLE: 0.1317\n",
            "Ridge Model (alpha=3, solver=auto) - RMSLE: 0.1315\n",
            "Ridge Model (alpha=3, solver=svd) - RMSLE: 0.1315\n",
            "Ridge Model (alpha=4, solver=auto) - RMSLE: 0.1314\n",
            "Ridge Model (alpha=4, solver=svd) - RMSLE: 0.1314\n",
            "Ridge Model (alpha=5, solver=auto) - RMSLE: 0.1313\n",
            "Ridge Model (alpha=5, solver=svd) - RMSLE: 0.1313\n",
            "Ridge Model (alpha=6, solver=auto) - RMSLE: 0.1313\n",
            "Ridge Model (alpha=6, solver=svd) - RMSLE: 0.1313\n",
            "Ridge Model (alpha=7, solver=auto) - RMSLE: 0.1313\n",
            "Ridge Model (alpha=7, solver=svd) - RMSLE: 0.1313\n",
            "Ridge Model (alpha=8, solver=auto) - RMSLE: 0.1313\n",
            "Ridge Model (alpha=8, solver=svd) - RMSLE: 0.1313\n",
            "Ridge Model (alpha=9, solver=auto) - RMSLE: 0.1313\n",
            "Ridge Model (alpha=9, solver=svd) - RMSLE: 0.1313\n"
          ]
        }
      ],
      "source": [
        "alphas = range(10)\n",
        "solvers = ['auto', 'svd']  # 'cholesky', 'lsqr', 'sparse_cg', 'sag', 'saga'\n",
        "\n",
        "for a in alphas:\n",
        "    for s in solvers:\n",
        "        model = Ridge(alpha=a, solver=s)\n",
        "        model.fit(X_train_processed, y_train)\n",
        "        y_pred = model.predict(X_val_processed)\n",
        "        err = np.sqrt(mean_squared_error(y_val, y_pred))\n",
        "        print(f\"Ridge Model (alpha={a}, solver={s}) - RMSLE: {err:.4f}\")"
      ]
    },
    {
      "cell_type": "markdown",
      "id": "ca5a58bf",
      "metadata": {
        "id": "ca5a58bf"
      },
      "source": [
        "### 🌲🌳 RandomForest"
      ]
    },
    {
      "cell_type": "code",
      "execution_count": 49,
      "id": "a95e0615",
      "metadata": {
        "id": "a95e0615"
      },
      "outputs": [],
      "source": [
        "model = RandomForestRegressor(n_estimators=100, random_state=42, n_jobs=-1, max_depth=15, min_samples_split=5, min_samples_leaf=3)"
      ]
    },
    {
      "cell_type": "code",
      "execution_count": 50,
      "id": "abeccd2b",
      "metadata": {
        "colab": {
          "base_uri": "https://localhost:8080/"
        },
        "id": "abeccd2b",
        "outputId": "7023c3a7-7538-400a-ce10-40a12579f2e3"
      },
      "outputs": [
        {
          "output_type": "execute_result",
          "data": {
            "text/plain": [
              "np.float64(0.1563700197493566)"
            ]
          },
          "metadata": {},
          "execution_count": 50
        }
      ],
      "source": [
        "model.fit(X_train_processed_df, y_train)\n",
        "y_pred_log_val = model.predict(X_val_processed_df)\n",
        "rmse_log = np.sqrt(mean_squared_error(y_val, y_pred_log_val))\n",
        "rmse_log"
      ]
    },
    {
      "cell_type": "markdown",
      "id": "aa2ce255",
      "metadata": {
        "id": "aa2ce255"
      },
      "source": [
        "How would this model work with a different amount of trees (estimators)? or a different tree depth?"
      ]
    },
    {
      "cell_type": "markdown",
      "id": "b754f0f3",
      "metadata": {
        "id": "b754f0f3"
      },
      "source": [
        "## 🧩 Try other models"
      ]
    },
    {
      "cell_type": "markdown",
      "id": "30eda216",
      "metadata": {
        "id": "30eda216"
      },
      "source": [
        "Try other models with different hyperparameters and evaluate them against Ridge. Some examples include but are not limited to:\n",
        "\n",
        "```py\n",
        "RandomForestRegressor(n_estimators=100, random_state=42, n_jobs=-1, max_depth=15, min_samples_split=5, min_samples_leaf=3)\n",
        "GradientBoostingRegressor(n_estimators=100, learning_rate=0.1, max_depth=3, random_state=42)\n",
        "XGBRegressor(\n",
        "    n_estimators=1000,  # Number of trees\n",
        "    learning_rate=0.05,  # Step size shrinkage\n",
        "    max_depth=6,  # Maximum depth of a tree\n",
        "    subsample=0.8,  # Subsample ratio of the training instances\n",
        "    colsample_bytree=0.8,  # Subsample ratio of columns when constructing each tree\n",
        "    random_state=42\n",
        ")\n",
        "lgbm_model = LGBMRegressor(\n",
        "    n_estimators=1000,  # Number of boosting iterations\n",
        "    learning_rate=0.05,  # Learning rate\n",
        "    max_depth=6,  # Maximum depth of a tree\n",
        "    subsample=0.8,  # Subsample ratio of the training instances\n",
        "    colsample_bytree=0.8,  # Subsample ratio of columns when constructing each tree\n",
        "    random_state=42\n",
        ")\n",
        "```"
      ]
    },
    {
      "cell_type": "markdown",
      "id": "20dc1808",
      "metadata": {
        "id": "20dc1808"
      },
      "source": [
        "**❕Make sure you import all the necessary packages!**"
      ]
    },
    {
      "cell_type": "markdown",
      "id": "973c812a",
      "metadata": {
        "id": "973c812a"
      },
      "source": [
        "## 🎢 Make predictions"
      ]
    },
    {
      "cell_type": "markdown",
      "id": "9323f1fb",
      "metadata": {
        "id": "9323f1fb"
      },
      "source": [
        "Read the test file and **make sure you preprocess it in the same way** as the train set"
      ]
    },
    {
      "cell_type": "code",
      "execution_count": null,
      "id": "1703fab1",
      "metadata": {
        "id": "1703fab1"
      },
      "outputs": [],
      "source": [
        "df_test = pd.read_csv('building_prices/test.csv')\n",
        "df_test.columns = df_test.columns.str.replace(' ', '')\n",
        "df_test.drop('Id', axis=1, inplace=True)\n",
        "X_test_p = preprocessor.fit_transform(df_test)"
      ]
    },
    {
      "cell_type": "code",
      "execution_count": null,
      "id": "466cc7d6",
      "metadata": {
        "id": "466cc7d6"
      },
      "outputs": [],
      "source": [
        "y_test = model.predict(X_test_p)"
      ]
    },
    {
      "cell_type": "markdown",
      "id": "a2d1fe32",
      "metadata": {
        "_cell_guid": "23d6ef2e-138b-435e-8583-d73f023e91b2",
        "_uuid": "0419ec7c-a2aa-4f93-980d-4f1f03d6b55d",
        "collapsed": false,
        "jupyter": {
          "outputs_hidden": false
        },
        "papermill": {
          "duration": 0.011269,
          "end_time": "2025-04-12T12:50:17.435248",
          "exception": false,
          "start_time": "2025-04-12T12:50:17.423979",
          "status": "completed"
        },
        "tags": [],
        "id": "a2d1fe32"
      },
      "source": [
        "## 📦 Submit your results"
      ]
    },
    {
      "cell_type": "code",
      "execution_count": null,
      "id": "79d759d5",
      "metadata": {
        "id": "79d759d5"
      },
      "outputs": [],
      "source": [
        "sample_submission = pd.read_csv('building_prices/sample_submission.csv')"
      ]
    },
    {
      "cell_type": "code",
      "execution_count": null,
      "id": "e7ca12f2",
      "metadata": {
        "id": "e7ca12f2"
      },
      "outputs": [],
      "source": [
        "def generate_submission(predictions, output_file):\n",
        "    if len(predictions) != len(sample_submission):\n",
        "        raise ValueError(\"The length of predictions {} must match the sample_submission DataFrame {}.\".format(len(predictions), len(sample_submission)))\n",
        "    # Ensure predictions are in the correct format\n",
        "    sample_submission['SalePrice'] = predictions\n",
        "    sample_submission.to_csv(output_file, index=False)"
      ]
    },
    {
      "cell_type": "code",
      "execution_count": null,
      "id": "b6dc5352",
      "metadata": {
        "id": "b6dc5352"
      },
      "outputs": [],
      "source": [
        "generate_submission(y_test, \"{}/submission.csv\".format(\"building_prices\"))"
      ]
    },
    {
      "cell_type": "markdown",
      "id": "d81d287b",
      "metadata": {
        "id": "d81d287b"
      },
      "source": [
        "🥳🥳 Now you are ready to submit!"
      ]
    },
    {
      "cell_type": "markdown",
      "id": "00ded4a5",
      "metadata": {
        "id": "00ded4a5"
      },
      "source": [
        "<div display=\"flex\" flex-direction=\"row\"><img src=\"../.assets/kaggle/submit.jpg\" width=45% padding=5px/><img src=\"../.assets/kaggle/submitted.jpg\" width=45% padding=5px/></div>"
      ]
    },
    {
      "cell_type": "markdown",
      "source": [
        "# **RIDGE SUBMISSION**"
      ],
      "metadata": {
        "id": "yFSiyYkNfR5O"
      },
      "id": "yFSiyYkNfR5O"
    },
    {
      "cell_type": "code",
      "source": [
        "# ─── Ridge Submission: Train on full data & write CSV ───\n",
        "\n",
        "import numpy as np\n",
        "import pandas as pd\n",
        "from sklearn.pipeline     import Pipeline\n",
        "from sklearn.linear_model import Ridge\n",
        "\n",
        "# 1) Reload & normalize data\n",
        "train_full = pd.read_csv('/content/train.csv')\n",
        "test       = pd.read_csv('/content/test.csv')\n",
        "for df in (train_full, test):\n",
        "    df.columns = df.columns.str.replace(' ', '')\n",
        "\n",
        "# 2) Define features & target\n",
        "X_full = train_full.drop(['Order','PID','SalePrice'], axis=1)\n",
        "y_full = np.log1p(train_full['SalePrice'])  # train on log-space\n",
        "\n",
        "# 3) Build final pipeline (best α from CV: 31.62)\n",
        "final_pipe = Pipeline([\n",
        "    ('prep' , preprocessor),\n",
        "    ('model', Ridge(alpha=31.622776601683793, random_state=42))\n",
        "])\n",
        "\n",
        "# 4) Fit on all training data\n",
        "final_pipe.fit(X_full, y_full)\n",
        "\n",
        "# 5) Predict on test set and invert log\n",
        "X_test     = test.drop(['Order','PID'], axis=1)\n",
        "y_test_log = final_pipe.predict(X_test)\n",
        "y_test     = np.expm1(y_test_log)\n",
        "\n",
        "# 6) Save submission file with model-specific name\n",
        "sample_sub = pd.read_csv('/content/sample_submission.csv')\n",
        "sample_sub.columns = sample_sub.columns.str.replace(' ', '')\n",
        "sample_sub['SalePrice'] = y_test\n",
        "sample_sub.to_csv('/content/ridge_submission.csv', index=False)\n",
        "\n",
        "print(\"✅ Your Ridge submission CSV is saved to `reports/ridge_submission.csv`\")\n"
      ],
      "metadata": {
        "colab": {
          "base_uri": "https://localhost:8080/"
        },
        "id": "8EXtuXlMcteQ",
        "outputId": "05edcbbe-f989-430b-a5ce-71a3f54172ab"
      },
      "id": "8EXtuXlMcteQ",
      "execution_count": 57,
      "outputs": [
        {
          "output_type": "stream",
          "name": "stdout",
          "text": [
            "✅ Your Ridge submission CSV is saved to `reports/ridge_submission.csv`\n"
          ]
        }
      ]
    },
    {
      "cell_type": "markdown",
      "source": [
        "# **70% Ridge + 30% LGBM SUBMISSION**"
      ],
      "metadata": {
        "id": "nlrl9fMWjlEi"
      },
      "id": "nlrl9fMWjlEi"
    },
    {
      "cell_type": "code",
      "source": [
        "# ─── Ridge + LightGBM Ensemble Submission ───\n",
        "\n",
        "import numpy as np\n",
        "import pandas as pd\n",
        "from sklearn.pipeline     import Pipeline\n",
        "from sklearn.linear_model import Ridge\n",
        "from lightgbm             import LGBMRegressor\n",
        "\n",
        "# 1) Reload & normalize data\n",
        "train_full = pd.read_csv('/content/train.csv')\n",
        "test       = pd.read_csv('/content/test.csv')\n",
        "for df in (train_full, test):\n",
        "    df.columns = df.columns.str.replace(' ', '')\n",
        "\n",
        "# 2) Feature / target matrices\n",
        "X_full = train_full.drop(['Order','PID','SalePrice'], axis=1)\n",
        "y_ridge = np.log1p(train_full['SalePrice'])  # for Ridge\n",
        "y_lgb   = train_full['SalePrice']            # for LGBM\n",
        "\n",
        "# 3) Refit Ridge on log-space (best α = 31.62)\n",
        "ridge_pipe = Pipeline([\n",
        "    ('prep' , preprocessor),\n",
        "    ('model', Ridge(alpha=31.622776601683793, random_state=42))\n",
        "])\n",
        "ridge_pipe.fit(X_full, y_ridge)\n",
        "\n",
        "# 4) Fit LightGBM on raw prices (default params or use your best_lgbm_params)\n",
        "lgbm_pipe = Pipeline([\n",
        "    ('prep' , preprocessor),\n",
        "    ('model', LGBMRegressor(random_state=42, n_jobs=-1))\n",
        "])\n",
        "lgbm_pipe.fit(X_full, y_lgb)\n",
        "\n",
        "# 5) Predict on test\n",
        "X_test    = test.drop(['Order','PID'], axis=1)\n",
        "pred_ridge_log = ridge_pipe.predict(X_test)\n",
        "pred_ridge     = np.expm1(pred_ridge_log)         # invert log1p\n",
        "pred_lgbm      = lgbm_pipe.predict(X_test)        # raw scale\n",
        "\n",
        "# 6) Blend predictions (70% Ridge + 30% LGBM)\n",
        "blend = 0.7 * pred_ridge + 0.3 * pred_lgbm\n",
        "\n",
        "# 7) Write out ensemble submission\n",
        "sample_sub = pd.read_csv('/content/sample_submission.csv')\n",
        "sample_sub.columns = sample_sub.columns.str.replace(' ', '')\n",
        "sample_sub['SalePrice'] = blend\n",
        "sample_sub.to_csv('/content/70%Ridge+30%LGBM_submission.csv', index=False)\n",
        "\n",
        "print(\"✅ Ensemble submission saved to reports/ensemble_submission.csv\")\n"
      ],
      "metadata": {
        "colab": {
          "base_uri": "https://localhost:8080/"
        },
        "id": "W9_QAEgBjlkY",
        "outputId": "432bab01-8d7e-4311-b66e-1595a2916d36"
      },
      "id": "W9_QAEgBjlkY",
      "execution_count": 60,
      "outputs": [
        {
          "output_type": "stream",
          "name": "stdout",
          "text": [
            "[LightGBM] [Info] Auto-choosing row-wise multi-threading, the overhead of testing was 0.970638 seconds.\n",
            "You can set `force_row_wise=true` to remove the overhead.\n",
            "And if memory is not enough, you can set `force_col_wise=true`.\n",
            "[LightGBM] [Info] Total Bins 3908\n",
            "[LightGBM] [Info] Number of data points in the train set: 1758, number of used features: 185\n",
            "[LightGBM] [Info] Start training from score 179194.476109\n",
            "✅ Ensemble submission saved to reports/ensemble_submission.csv\n"
          ]
        }
      ]
    },
    {
      "cell_type": "markdown",
      "source": [
        "# **COMPARISON: RIDGE VS 70% RIDGE + 30% LightGBM**"
      ],
      "metadata": {
        "id": "P8Wn9WmMs60O"
      },
      "id": "P8Wn9WmMs60O"
    },
    {
      "cell_type": "code",
      "source": [
        "# --- LOCAL HOLD-OUT COMPARISON: Ridge vs. 70/30 Ensemble ---\n",
        "import numpy as np\n",
        "import pandas as pd\n",
        "from sklearn.model_selection import train_test_split\n",
        "from sklearn.pipeline        import Pipeline\n",
        "from sklearn.linear_model    import Ridge\n",
        "from lightgbm                import LGBMRegressor\n",
        "from sklearn.metrics         import mean_squared_error\n",
        "\n",
        "# 1) Reload & normalize train\n",
        "df = pd.read_csv('/content/train.csv')\n",
        "df.columns = df.columns.str.replace(' ', '')\n",
        "\n",
        "# 2) 80/20 split\n",
        "X = df.drop(['Order','PID','SalePrice'], axis=1)\n",
        "y = df['SalePrice']\n",
        "X_tr, X_val, y_tr, y_val = train_test_split(\n",
        "    X, y, test_size=0.2, random_state=42\n",
        ")\n",
        "\n",
        "# 3) Build & fit Ridge pipeline on log-target\n",
        "ridge_pipe = Pipeline([\n",
        "    ('prep' , preprocessor),\n",
        "    ('model', Ridge(alpha=31.6228, random_state=42))\n",
        "])\n",
        "ridge_pipe.fit(X_tr, np.log1p(y_tr))\n",
        "\n",
        "# 4) Build & fit LGBM pipeline on raw target\n",
        "lgbm_pipe = Pipeline([\n",
        "    ('prep' , preprocessor),\n",
        "    ('model', LGBMRegressor(random_state=42, n_jobs=-1))\n",
        "])\n",
        "lgbm_pipe.fit(X_tr, y_tr)\n",
        "\n",
        "# 5) Predict on hold-out\n",
        "pred_ridge_log = ridge_pipe.predict(X_val)\n",
        "pred_ridge     = np.expm1(pred_ridge_log)      # back to original scale\n",
        "pred_lgbm      = lgbm_pipe.predict(X_val)\n",
        "\n",
        "# 6) RMSLE function\n",
        "def rmsle(a, b):\n",
        "    return np.sqrt(mean_squared_error(np.log1p(a), np.log1p(b)))\n",
        "\n",
        "# 7) Compute and print\n",
        "r_rmsle = rmsle(y_val, pred_ridge)\n",
        "e_rmsle = rmsle(y_val, 0.7*pred_ridge + 0.3*pred_lgbm)\n",
        "\n",
        "print(f\"Hold-out RMSLE — Ridge alone:    {r_rmsle:.4f}\")\n",
        "print(f\"Hold-out RMSLE — 70/30 ensemble: {e_rmsle:.4f}\")\n"
      ],
      "metadata": {
        "colab": {
          "base_uri": "https://localhost:8080/"
        },
        "id": "XvBdgdWdlqwn",
        "outputId": "401a258b-15f2-4304-eb51-df1838caadb0"
      },
      "id": "XvBdgdWdlqwn",
      "execution_count": 67,
      "outputs": [
        {
          "output_type": "stream",
          "name": "stdout",
          "text": [
            "[LightGBM] [Info] Auto-choosing row-wise multi-threading, the overhead of testing was 0.034539 seconds.\n",
            "You can set `force_row_wise=true` to remove the overhead.\n",
            "And if memory is not enough, you can set `force_col_wise=true`.\n",
            "[LightGBM] [Info] Total Bins 3708\n",
            "[LightGBM] [Info] Number of data points in the train set: 1406, number of used features: 174\n",
            "[LightGBM] [Info] Start training from score 179713.294452\n",
            "Hold-out RMSLE — Ridge alone:    0.1301\n",
            "Hold-out RMSLE — 70/30 ensemble: 0.1273\n"
          ]
        }
      ]
    }
  ],
  "metadata": {
    "kaggle": {
      "accelerator": "none",
      "dataSources": [
        {
          "databundleVersionId": 868283,
          "sourceId": 5407,
          "sourceType": "competition"
        }
      ],
      "dockerImageVersionId": 31012,
      "isGpuEnabled": false,
      "isInternetEnabled": true,
      "language": "python",
      "sourceType": "notebook"
    },
    "kernelspec": {
      "display_name": "iaac2024",
      "language": "python",
      "name": "python3"
    },
    "language_info": {
      "codemirror_mode": {
        "name": "ipython",
        "version": 3
      },
      "file_extension": ".py",
      "mimetype": "text/x-python",
      "name": "python",
      "nbconvert_exporter": "python",
      "pygments_lexer": "ipython3",
      "version": "3.10.12"
    },
    "papermill": {
      "default_parameters": {},
      "duration": 14.158111,
      "end_time": "2025-04-12T12:50:18.577056",
      "environment_variables": {},
      "exception": null,
      "input_path": "__notebook__.ipynb",
      "output_path": "__notebook__.ipynb",
      "parameters": {},
      "start_time": "2025-04-12T12:50:04.418945",
      "version": "2.6.0"
    },
    "colab": {
      "provenance": [],
      "collapsed_sections": [
        "yFSiyYkNfR5O",
        "nlrl9fMWjlEi",
        "P8Wn9WmMs60O"
      ],
      "include_colab_link": true
    }
  },
  "nbformat": 4,
  "nbformat_minor": 5
}